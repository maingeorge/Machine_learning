{
 "cells": [
  {
   "cell_type": "markdown",
   "id": "0f36d29e-33b1-48ad-b650-b76c6f7b764c",
   "metadata": {},
   "source": [
    "# Decision Tree"
   ]
  },
  {
   "cell_type": "markdown",
   "id": "1988258c-88e4-4eec-a631-d79a3514d8d4",
   "metadata": {},
   "source": [
    "- A Decision Tree is a machine learning algorithm used for both classification and regression tasks. It works by splitting data into smaller groups based on certain conditions, forming a tree-like structure.\n",
    "- Decision tree is a graph used to represent choices and their results in form of a tree.\n",
    "- The model itself comprises a series of logical decisions, similar to a flowchart, with decision nodes that indicate a decision to be made on an attribute.\n",
    "- These split into branches that indicate the decision's choices.\n",
    "- \n",
    "\n",
    "#### Advantages\n",
    "- Easy to understand and interpret.\n",
    "- Handles both numerical and categorical data.\n",
    "- No need for feature scaling.\n",
    "- Works well with small datasets and gives good interpretability.\n",
    "#### Examples\n",
    "- Bank Loan Approval: A bank decides whether to approve a loan based on salary, credit score, and debt history.\n",
    "- Medical Diagnosis: A doctor predicts whether a patient has a disease based on symptoms.\n",
    "- Spam Detection: An email is classified as spam or not spam based on words used in the message."
   ]
  },
  {
   "cell_type": "markdown",
   "id": "f6b92ad2-bb1a-4e47-9a76-8dcae6a4f726",
   "metadata": {},
   "source": [
    "#### How a Decision Tree Works\n",
    "\n",
    "A decision tree consists of:\n",
    "\n",
    "- Root Node: The starting point (e.g., “Is age > 30?”).\n",
    "- Decision Nodes: Intermediate questions splitting the data (e.g., “Does the person have a high credit score?”).\n",
    "- Leaf Nodes: The final decision (e.g., “Approve Loan” or “Reject Loan”)."
   ]
  },
  {
   "cell_type": "markdown",
   "id": "abe7de0c-9fb8-4c8d-b03d-b61df93f37eb",
   "metadata": {},
   "source": [
    "#### Example\n",
    "\n",
    "Imagine we want to predict if a person will buy a house based on age and income. "
   ]
  },
  {
   "cell_type": "code",
   "execution_count": 10,
   "id": "2c12616a-612d-4dc3-a440-bcf8f3b54850",
   "metadata": {},
   "outputs": [
    {
     "name": "stdout",
     "output_type": "stream",
     "text": [
      "   Age  Income Buys_House\n",
      "0   25     Low         No\n",
      "1   30    High        Yes\n",
      "2   35  Medium        Yes\n",
      "3   40    High        Yes\n",
      "4   20     Low         No\n"
     ]
    }
   ],
   "source": [
    "import pandas as pd\n",
    "\n",
    "# Create the dataset\n",
    "data = {\n",
    "    'Age': [25, 30, 35, 40, 20],\n",
    "    'Income': ['Low', 'High', 'Medium', 'High', 'Low'],\n",
    "    'Buys_House': ['No', 'Yes', 'Yes', 'Yes', 'No']\n",
    "}\n",
    "\n",
    "df = pd.DataFrame(data)\n",
    "\n",
    "print(df)\n"
   ]
  },
  {
   "cell_type": "code",
   "execution_count": null,
   "id": "53349008-f525-483a-88d9-7c6881584940",
   "metadata": {},
   "outputs": [],
   "source": [
    "A decision tree might look like:"
   ]
  },
  {
   "cell_type": "code",
   "execution_count": null,
   "id": "05259e80-9d4e-4c63-8207-287ccd242638",
   "metadata": {},
   "outputs": [],
   "source": [
    "Is Age > 30?\n",
    "          /   \\\n",
    "      Yes      No\n",
    "      /          \\\n",
    "  Income High?    No House\n",
    "  /       \\\n",
    "Yes       No House"
   ]
  },
  {
   "cell_type": "markdown",
   "id": "ccf032ae-86f6-4e6b-953a-5de4bec7b9ac",
   "metadata": {},
   "source": [
    "## Key Concepts"
   ]
  },
  {
   "cell_type": "markdown",
   "id": "1346a79f-e62d-4709-8048-7be8ec4aafaf",
   "metadata": {},
   "source": [
    "#### 1. Splitting\n",
    "\n",
    "- The tree decides where to split data using criteria like Gini Impurity or Entropy.\n",
    "- It chooses the best feature to split first."
   ]
  },
  {
   "cell_type": "markdown",
   "id": "814f8edf-af21-4ee0-bb55-e98975cec0c1",
   "metadata": {},
   "source": [
    "#### 2. Gini Impurity\n",
    "\n",
    "- Gini Impurity/index is a metric to measure how often a randomly chosen element would be incorrectly identified.\n",
    "- Measures how pure the groups are after a split.\n",
    "- Lower Gini means better splits i.e. It means an attribute with lower gini index should be preferred."
   ]
  },
  {
   "cell_type": "markdown",
   "id": "ac130eec-72ea-4d42-bf0f-2abb9ae1dba3",
   "metadata": {},
   "source": [
    "#### 3. Entropy & Information Gain\n",
    "\n",
    "- Entropy is the measure of uncertainty of a\n",
    "random variable, it characterizes the impurity of\n",
    "an arbitrary collection of examples. The higher\n",
    "the entropy the more the information content.\n",
    "- Information gain tells us how much a split improves the prediction."
   ]
  },
  {
   "cell_type": "markdown",
   "id": "da65bca4-5143-46bb-bcdf-5072a68f1306",
   "metadata": {},
   "source": [
    "#### 4. Overfitting\n",
    "\n",
    "- If a tree is too deep, it memorizes training data but performs poorly on new data.\n",
    "- Solution: Pruning (cutting unnecessary branches)."
   ]
  },
  {
   "cell_type": "markdown",
   "id": "5b343624-0151-4c16-95ec-27727b296778",
   "metadata": {},
   "source": [
    "## Decision Trees in Python"
   ]
  },
  {
   "cell_type": "code",
   "execution_count": null,
   "id": "88296bc4-775e-4974-af39-5204a213621b",
   "metadata": {},
   "outputs": [],
   "source": []
  },
  {
   "cell_type": "code",
   "execution_count": 2,
   "id": "f0a58b78-3c7c-435d-b540-e5e71a382fcb",
   "metadata": {},
   "outputs": [],
   "source": [
    "import pandas as pd\n",
    "from sklearn.model_selection import train_test_split\n",
    "from sklearn.tree import DecisionTreeClassifier, plot_tree\n",
    "from sklearn.preprocessing import LabelEncoder\n",
    "from sklearn.metrics import accuracy_score, classification_report\n",
    "import matplotlib.pyplot as plt"
   ]
  },
  {
   "cell_type": "code",
   "execution_count": 39,
   "id": "f4c0824d-cb94-4d48-9894-a3dc6af724b8",
   "metadata": {},
   "outputs": [],
   "source": [
    "# Load the dataset\n",
    "file_path = \"accident.csv\"\n",
    "df = pd.read_csv(file_path)"
   ]
  },
  {
   "cell_type": "code",
   "execution_count": 41,
   "id": "ad651ab5-3daf-4fe8-95e2-60ca43b58d23",
   "metadata": {},
   "outputs": [],
   "source": [
    "# Encode categorical variables\n",
    "label_encoders = {}\n",
    "\n",
    "categorical_cols = ['Gender', 'Helmet_Used', 'Seatbelt_Used']\n",
    "\n",
    "for col in categorical_cols:\n",
    "    le = LabelEncoder()\n",
    "    df[col] = le.fit_transform(df[col])\n",
    "    label_encoders[col] = le\n",
    "    "
   ]
  },
  {
   "cell_type": "code",
   "execution_count": 43,
   "id": "dc425c09-0851-4c6b-952b-5a2047f2ada2",
   "metadata": {},
   "outputs": [],
   "source": [
    "X = df[['Age', 'Gender', 'Speed_of_Impact', 'Helmet_Used', 'Seatbelt_Used']]\n",
    "y = df['Survived']"
   ]
  },
  {
   "cell_type": "code",
   "execution_count": 45,
   "id": "eed54c82-c7c0-4352-99a5-e19604cd9982",
   "metadata": {},
   "outputs": [],
   "source": [
    "X_train, X_test, y_train, y_test = train_test_split(X, y, test_size=0.2, random_state=42)"
   ]
  },
  {
   "cell_type": "code",
   "execution_count": 47,
   "id": "a5f91a32-cd97-4166-8af9-f372d88b2ff2",
   "metadata": {},
   "outputs": [
    {
     "data": {
      "text/html": [
       "<style>#sk-container-id-4 {\n",
       "  /* Definition of color scheme common for light and dark mode */\n",
       "  --sklearn-color-text: black;\n",
       "  --sklearn-color-line: gray;\n",
       "  /* Definition of color scheme for unfitted estimators */\n",
       "  --sklearn-color-unfitted-level-0: #fff5e6;\n",
       "  --sklearn-color-unfitted-level-1: #f6e4d2;\n",
       "  --sklearn-color-unfitted-level-2: #ffe0b3;\n",
       "  --sklearn-color-unfitted-level-3: chocolate;\n",
       "  /* Definition of color scheme for fitted estimators */\n",
       "  --sklearn-color-fitted-level-0: #f0f8ff;\n",
       "  --sklearn-color-fitted-level-1: #d4ebff;\n",
       "  --sklearn-color-fitted-level-2: #b3dbfd;\n",
       "  --sklearn-color-fitted-level-3: cornflowerblue;\n",
       "\n",
       "  /* Specific color for light theme */\n",
       "  --sklearn-color-text-on-default-background: var(--sg-text-color, var(--theme-code-foreground, var(--jp-content-font-color1, black)));\n",
       "  --sklearn-color-background: var(--sg-background-color, var(--theme-background, var(--jp-layout-color0, white)));\n",
       "  --sklearn-color-border-box: var(--sg-text-color, var(--theme-code-foreground, var(--jp-content-font-color1, black)));\n",
       "  --sklearn-color-icon: #696969;\n",
       "\n",
       "  @media (prefers-color-scheme: dark) {\n",
       "    /* Redefinition of color scheme for dark theme */\n",
       "    --sklearn-color-text-on-default-background: var(--sg-text-color, var(--theme-code-foreground, var(--jp-content-font-color1, white)));\n",
       "    --sklearn-color-background: var(--sg-background-color, var(--theme-background, var(--jp-layout-color0, #111)));\n",
       "    --sklearn-color-border-box: var(--sg-text-color, var(--theme-code-foreground, var(--jp-content-font-color1, white)));\n",
       "    --sklearn-color-icon: #878787;\n",
       "  }\n",
       "}\n",
       "\n",
       "#sk-container-id-4 {\n",
       "  color: var(--sklearn-color-text);\n",
       "}\n",
       "\n",
       "#sk-container-id-4 pre {\n",
       "  padding: 0;\n",
       "}\n",
       "\n",
       "#sk-container-id-4 input.sk-hidden--visually {\n",
       "  border: 0;\n",
       "  clip: rect(1px 1px 1px 1px);\n",
       "  clip: rect(1px, 1px, 1px, 1px);\n",
       "  height: 1px;\n",
       "  margin: -1px;\n",
       "  overflow: hidden;\n",
       "  padding: 0;\n",
       "  position: absolute;\n",
       "  width: 1px;\n",
       "}\n",
       "\n",
       "#sk-container-id-4 div.sk-dashed-wrapped {\n",
       "  border: 1px dashed var(--sklearn-color-line);\n",
       "  margin: 0 0.4em 0.5em 0.4em;\n",
       "  box-sizing: border-box;\n",
       "  padding-bottom: 0.4em;\n",
       "  background-color: var(--sklearn-color-background);\n",
       "}\n",
       "\n",
       "#sk-container-id-4 div.sk-container {\n",
       "  /* jupyter's `normalize.less` sets `[hidden] { display: none; }`\n",
       "     but bootstrap.min.css set `[hidden] { display: none !important; }`\n",
       "     so we also need the `!important` here to be able to override the\n",
       "     default hidden behavior on the sphinx rendered scikit-learn.org.\n",
       "     See: https://github.com/scikit-learn/scikit-learn/issues/21755 */\n",
       "  display: inline-block !important;\n",
       "  position: relative;\n",
       "}\n",
       "\n",
       "#sk-container-id-4 div.sk-text-repr-fallback {\n",
       "  display: none;\n",
       "}\n",
       "\n",
       "div.sk-parallel-item,\n",
       "div.sk-serial,\n",
       "div.sk-item {\n",
       "  /* draw centered vertical line to link estimators */\n",
       "  background-image: linear-gradient(var(--sklearn-color-text-on-default-background), var(--sklearn-color-text-on-default-background));\n",
       "  background-size: 2px 100%;\n",
       "  background-repeat: no-repeat;\n",
       "  background-position: center center;\n",
       "}\n",
       "\n",
       "/* Parallel-specific style estimator block */\n",
       "\n",
       "#sk-container-id-4 div.sk-parallel-item::after {\n",
       "  content: \"\";\n",
       "  width: 100%;\n",
       "  border-bottom: 2px solid var(--sklearn-color-text-on-default-background);\n",
       "  flex-grow: 1;\n",
       "}\n",
       "\n",
       "#sk-container-id-4 div.sk-parallel {\n",
       "  display: flex;\n",
       "  align-items: stretch;\n",
       "  justify-content: center;\n",
       "  background-color: var(--sklearn-color-background);\n",
       "  position: relative;\n",
       "}\n",
       "\n",
       "#sk-container-id-4 div.sk-parallel-item {\n",
       "  display: flex;\n",
       "  flex-direction: column;\n",
       "}\n",
       "\n",
       "#sk-container-id-4 div.sk-parallel-item:first-child::after {\n",
       "  align-self: flex-end;\n",
       "  width: 50%;\n",
       "}\n",
       "\n",
       "#sk-container-id-4 div.sk-parallel-item:last-child::after {\n",
       "  align-self: flex-start;\n",
       "  width: 50%;\n",
       "}\n",
       "\n",
       "#sk-container-id-4 div.sk-parallel-item:only-child::after {\n",
       "  width: 0;\n",
       "}\n",
       "\n",
       "/* Serial-specific style estimator block */\n",
       "\n",
       "#sk-container-id-4 div.sk-serial {\n",
       "  display: flex;\n",
       "  flex-direction: column;\n",
       "  align-items: center;\n",
       "  background-color: var(--sklearn-color-background);\n",
       "  padding-right: 1em;\n",
       "  padding-left: 1em;\n",
       "}\n",
       "\n",
       "\n",
       "/* Toggleable style: style used for estimator/Pipeline/ColumnTransformer box that is\n",
       "clickable and can be expanded/collapsed.\n",
       "- Pipeline and ColumnTransformer use this feature and define the default style\n",
       "- Estimators will overwrite some part of the style using the `sk-estimator` class\n",
       "*/\n",
       "\n",
       "/* Pipeline and ColumnTransformer style (default) */\n",
       "\n",
       "#sk-container-id-4 div.sk-toggleable {\n",
       "  /* Default theme specific background. It is overwritten whether we have a\n",
       "  specific estimator or a Pipeline/ColumnTransformer */\n",
       "  background-color: var(--sklearn-color-background);\n",
       "}\n",
       "\n",
       "/* Toggleable label */\n",
       "#sk-container-id-4 label.sk-toggleable__label {\n",
       "  cursor: pointer;\n",
       "  display: block;\n",
       "  width: 100%;\n",
       "  margin-bottom: 0;\n",
       "  padding: 0.5em;\n",
       "  box-sizing: border-box;\n",
       "  text-align: center;\n",
       "}\n",
       "\n",
       "#sk-container-id-4 label.sk-toggleable__label-arrow:before {\n",
       "  /* Arrow on the left of the label */\n",
       "  content: \"▸\";\n",
       "  float: left;\n",
       "  margin-right: 0.25em;\n",
       "  color: var(--sklearn-color-icon);\n",
       "}\n",
       "\n",
       "#sk-container-id-4 label.sk-toggleable__label-arrow:hover:before {\n",
       "  color: var(--sklearn-color-text);\n",
       "}\n",
       "\n",
       "/* Toggleable content - dropdown */\n",
       "\n",
       "#sk-container-id-4 div.sk-toggleable__content {\n",
       "  max-height: 0;\n",
       "  max-width: 0;\n",
       "  overflow: hidden;\n",
       "  text-align: left;\n",
       "  /* unfitted */\n",
       "  background-color: var(--sklearn-color-unfitted-level-0);\n",
       "}\n",
       "\n",
       "#sk-container-id-4 div.sk-toggleable__content.fitted {\n",
       "  /* fitted */\n",
       "  background-color: var(--sklearn-color-fitted-level-0);\n",
       "}\n",
       "\n",
       "#sk-container-id-4 div.sk-toggleable__content pre {\n",
       "  margin: 0.2em;\n",
       "  border-radius: 0.25em;\n",
       "  color: var(--sklearn-color-text);\n",
       "  /* unfitted */\n",
       "  background-color: var(--sklearn-color-unfitted-level-0);\n",
       "}\n",
       "\n",
       "#sk-container-id-4 div.sk-toggleable__content.fitted pre {\n",
       "  /* unfitted */\n",
       "  background-color: var(--sklearn-color-fitted-level-0);\n",
       "}\n",
       "\n",
       "#sk-container-id-4 input.sk-toggleable__control:checked~div.sk-toggleable__content {\n",
       "  /* Expand drop-down */\n",
       "  max-height: 200px;\n",
       "  max-width: 100%;\n",
       "  overflow: auto;\n",
       "}\n",
       "\n",
       "#sk-container-id-4 input.sk-toggleable__control:checked~label.sk-toggleable__label-arrow:before {\n",
       "  content: \"▾\";\n",
       "}\n",
       "\n",
       "/* Pipeline/ColumnTransformer-specific style */\n",
       "\n",
       "#sk-container-id-4 div.sk-label input.sk-toggleable__control:checked~label.sk-toggleable__label {\n",
       "  color: var(--sklearn-color-text);\n",
       "  background-color: var(--sklearn-color-unfitted-level-2);\n",
       "}\n",
       "\n",
       "#sk-container-id-4 div.sk-label.fitted input.sk-toggleable__control:checked~label.sk-toggleable__label {\n",
       "  background-color: var(--sklearn-color-fitted-level-2);\n",
       "}\n",
       "\n",
       "/* Estimator-specific style */\n",
       "\n",
       "/* Colorize estimator box */\n",
       "#sk-container-id-4 div.sk-estimator input.sk-toggleable__control:checked~label.sk-toggleable__label {\n",
       "  /* unfitted */\n",
       "  background-color: var(--sklearn-color-unfitted-level-2);\n",
       "}\n",
       "\n",
       "#sk-container-id-4 div.sk-estimator.fitted input.sk-toggleable__control:checked~label.sk-toggleable__label {\n",
       "  /* fitted */\n",
       "  background-color: var(--sklearn-color-fitted-level-2);\n",
       "}\n",
       "\n",
       "#sk-container-id-4 div.sk-label label.sk-toggleable__label,\n",
       "#sk-container-id-4 div.sk-label label {\n",
       "  /* The background is the default theme color */\n",
       "  color: var(--sklearn-color-text-on-default-background);\n",
       "}\n",
       "\n",
       "/* On hover, darken the color of the background */\n",
       "#sk-container-id-4 div.sk-label:hover label.sk-toggleable__label {\n",
       "  color: var(--sklearn-color-text);\n",
       "  background-color: var(--sklearn-color-unfitted-level-2);\n",
       "}\n",
       "\n",
       "/* Label box, darken color on hover, fitted */\n",
       "#sk-container-id-4 div.sk-label.fitted:hover label.sk-toggleable__label.fitted {\n",
       "  color: var(--sklearn-color-text);\n",
       "  background-color: var(--sklearn-color-fitted-level-2);\n",
       "}\n",
       "\n",
       "/* Estimator label */\n",
       "\n",
       "#sk-container-id-4 div.sk-label label {\n",
       "  font-family: monospace;\n",
       "  font-weight: bold;\n",
       "  display: inline-block;\n",
       "  line-height: 1.2em;\n",
       "}\n",
       "\n",
       "#sk-container-id-4 div.sk-label-container {\n",
       "  text-align: center;\n",
       "}\n",
       "\n",
       "/* Estimator-specific */\n",
       "#sk-container-id-4 div.sk-estimator {\n",
       "  font-family: monospace;\n",
       "  border: 1px dotted var(--sklearn-color-border-box);\n",
       "  border-radius: 0.25em;\n",
       "  box-sizing: border-box;\n",
       "  margin-bottom: 0.5em;\n",
       "  /* unfitted */\n",
       "  background-color: var(--sklearn-color-unfitted-level-0);\n",
       "}\n",
       "\n",
       "#sk-container-id-4 div.sk-estimator.fitted {\n",
       "  /* fitted */\n",
       "  background-color: var(--sklearn-color-fitted-level-0);\n",
       "}\n",
       "\n",
       "/* on hover */\n",
       "#sk-container-id-4 div.sk-estimator:hover {\n",
       "  /* unfitted */\n",
       "  background-color: var(--sklearn-color-unfitted-level-2);\n",
       "}\n",
       "\n",
       "#sk-container-id-4 div.sk-estimator.fitted:hover {\n",
       "  /* fitted */\n",
       "  background-color: var(--sklearn-color-fitted-level-2);\n",
       "}\n",
       "\n",
       "/* Specification for estimator info (e.g. \"i\" and \"?\") */\n",
       "\n",
       "/* Common style for \"i\" and \"?\" */\n",
       "\n",
       ".sk-estimator-doc-link,\n",
       "a:link.sk-estimator-doc-link,\n",
       "a:visited.sk-estimator-doc-link {\n",
       "  float: right;\n",
       "  font-size: smaller;\n",
       "  line-height: 1em;\n",
       "  font-family: monospace;\n",
       "  background-color: var(--sklearn-color-background);\n",
       "  border-radius: 1em;\n",
       "  height: 1em;\n",
       "  width: 1em;\n",
       "  text-decoration: none !important;\n",
       "  margin-left: 1ex;\n",
       "  /* unfitted */\n",
       "  border: var(--sklearn-color-unfitted-level-1) 1pt solid;\n",
       "  color: var(--sklearn-color-unfitted-level-1);\n",
       "}\n",
       "\n",
       ".sk-estimator-doc-link.fitted,\n",
       "a:link.sk-estimator-doc-link.fitted,\n",
       "a:visited.sk-estimator-doc-link.fitted {\n",
       "  /* fitted */\n",
       "  border: var(--sklearn-color-fitted-level-1) 1pt solid;\n",
       "  color: var(--sklearn-color-fitted-level-1);\n",
       "}\n",
       "\n",
       "/* On hover */\n",
       "div.sk-estimator:hover .sk-estimator-doc-link:hover,\n",
       ".sk-estimator-doc-link:hover,\n",
       "div.sk-label-container:hover .sk-estimator-doc-link:hover,\n",
       ".sk-estimator-doc-link:hover {\n",
       "  /* unfitted */\n",
       "  background-color: var(--sklearn-color-unfitted-level-3);\n",
       "  color: var(--sklearn-color-background);\n",
       "  text-decoration: none;\n",
       "}\n",
       "\n",
       "div.sk-estimator.fitted:hover .sk-estimator-doc-link.fitted:hover,\n",
       ".sk-estimator-doc-link.fitted:hover,\n",
       "div.sk-label-container:hover .sk-estimator-doc-link.fitted:hover,\n",
       ".sk-estimator-doc-link.fitted:hover {\n",
       "  /* fitted */\n",
       "  background-color: var(--sklearn-color-fitted-level-3);\n",
       "  color: var(--sklearn-color-background);\n",
       "  text-decoration: none;\n",
       "}\n",
       "\n",
       "/* Span, style for the box shown on hovering the info icon */\n",
       ".sk-estimator-doc-link span {\n",
       "  display: none;\n",
       "  z-index: 9999;\n",
       "  position: relative;\n",
       "  font-weight: normal;\n",
       "  right: .2ex;\n",
       "  padding: .5ex;\n",
       "  margin: .5ex;\n",
       "  width: min-content;\n",
       "  min-width: 20ex;\n",
       "  max-width: 50ex;\n",
       "  color: var(--sklearn-color-text);\n",
       "  box-shadow: 2pt 2pt 4pt #999;\n",
       "  /* unfitted */\n",
       "  background: var(--sklearn-color-unfitted-level-0);\n",
       "  border: .5pt solid var(--sklearn-color-unfitted-level-3);\n",
       "}\n",
       "\n",
       ".sk-estimator-doc-link.fitted span {\n",
       "  /* fitted */\n",
       "  background: var(--sklearn-color-fitted-level-0);\n",
       "  border: var(--sklearn-color-fitted-level-3);\n",
       "}\n",
       "\n",
       ".sk-estimator-doc-link:hover span {\n",
       "  display: block;\n",
       "}\n",
       "\n",
       "/* \"?\"-specific style due to the `<a>` HTML tag */\n",
       "\n",
       "#sk-container-id-4 a.estimator_doc_link {\n",
       "  float: right;\n",
       "  font-size: 1rem;\n",
       "  line-height: 1em;\n",
       "  font-family: monospace;\n",
       "  background-color: var(--sklearn-color-background);\n",
       "  border-radius: 1rem;\n",
       "  height: 1rem;\n",
       "  width: 1rem;\n",
       "  text-decoration: none;\n",
       "  /* unfitted */\n",
       "  color: var(--sklearn-color-unfitted-level-1);\n",
       "  border: var(--sklearn-color-unfitted-level-1) 1pt solid;\n",
       "}\n",
       "\n",
       "#sk-container-id-4 a.estimator_doc_link.fitted {\n",
       "  /* fitted */\n",
       "  border: var(--sklearn-color-fitted-level-1) 1pt solid;\n",
       "  color: var(--sklearn-color-fitted-level-1);\n",
       "}\n",
       "\n",
       "/* On hover */\n",
       "#sk-container-id-4 a.estimator_doc_link:hover {\n",
       "  /* unfitted */\n",
       "  background-color: var(--sklearn-color-unfitted-level-3);\n",
       "  color: var(--sklearn-color-background);\n",
       "  text-decoration: none;\n",
       "}\n",
       "\n",
       "#sk-container-id-4 a.estimator_doc_link.fitted:hover {\n",
       "  /* fitted */\n",
       "  background-color: var(--sklearn-color-fitted-level-3);\n",
       "}\n",
       "</style><div id=\"sk-container-id-4\" class=\"sk-top-container\"><div class=\"sk-text-repr-fallback\"><pre>DecisionTreeClassifier(max_depth=4, random_state=42)</pre><b>In a Jupyter environment, please rerun this cell to show the HTML representation or trust the notebook. <br />On GitHub, the HTML representation is unable to render, please try loading this page with nbviewer.org.</b></div><div class=\"sk-container\" hidden><div class=\"sk-item\"><div class=\"sk-estimator fitted sk-toggleable\"><input class=\"sk-toggleable__control sk-hidden--visually\" id=\"sk-estimator-id-4\" type=\"checkbox\" checked><label for=\"sk-estimator-id-4\" class=\"sk-toggleable__label fitted sk-toggleable__label-arrow fitted\">&nbsp;&nbsp;DecisionTreeClassifier<a class=\"sk-estimator-doc-link fitted\" rel=\"noreferrer\" target=\"_blank\" href=\"https://scikit-learn.org/1.5/modules/generated/sklearn.tree.DecisionTreeClassifier.html\">?<span>Documentation for DecisionTreeClassifier</span></a><span class=\"sk-estimator-doc-link fitted\">i<span>Fitted</span></span></label><div class=\"sk-toggleable__content fitted\"><pre>DecisionTreeClassifier(max_depth=4, random_state=42)</pre></div> </div></div></div></div>"
      ],
      "text/plain": [
       "DecisionTreeClassifier(max_depth=4, random_state=42)"
      ]
     },
     "execution_count": 47,
     "metadata": {},
     "output_type": "execute_result"
    }
   ],
   "source": [
    "#The Decision Tree Classifier\n",
    "clf = DecisionTreeClassifier(criterion='gini', max_depth=4, random_state=42)\n",
    "clf.fit(X_train, y_train)"
   ]
  },
  {
   "cell_type": "code",
   "execution_count": null,
   "id": "77d4e882-bd3f-4753-9444-3c3b5011a1cb",
   "metadata": {},
   "outputs": [],
   "source": []
  },
  {
   "cell_type": "code",
   "execution_count": 51,
   "id": "f6f940c1-8cda-4395-ae1d-1f35ff7303cb",
   "metadata": {},
   "outputs": [],
   "source": [
    "#DecisionTreeClassifier?"
   ]
  },
  {
   "cell_type": "code",
   "execution_count": 53,
   "id": "e7b56679-2794-47ab-a0b8-fbfb62fbd369",
   "metadata": {},
   "outputs": [],
   "source": [
    "# Make predictions\n",
    "y_pred = clf.predict(X_test)"
   ]
  },
  {
   "cell_type": "code",
   "execution_count": null,
   "id": "13b75112-9fbe-4dc9-9cfb-22fe5953c247",
   "metadata": {},
   "outputs": [],
   "source": []
  },
  {
   "cell_type": "code",
   "execution_count": 55,
   "id": "0866289c-3d22-4665-9eac-c98d21cb7425",
   "metadata": {},
   "outputs": [
    {
     "name": "stdout",
     "output_type": "stream",
     "text": [
      "Model Accuracy: 0.45\n",
      "\n",
      "Classification Report:\n",
      "               precision    recall  f1-score   support\n",
      "\n",
      "           0       0.50      0.27      0.35        22\n",
      "           1       0.43      0.67      0.52        18\n",
      "\n",
      "    accuracy                           0.45        40\n",
      "   macro avg       0.46      0.47      0.44        40\n",
      "weighted avg       0.47      0.45      0.43        40\n",
      "\n"
     ]
    }
   ],
   "source": [
    "# model evaluation\n",
    "accuracy = accuracy_score(y_test, y_pred)\n",
    "\n",
    "print(f\"Model Accuracy: {accuracy:.2f}\")\n",
    "\n",
    "print(\"\\nClassification Report:\\n\", classification_report(y_test, y_pred))\n"
   ]
  },
  {
   "cell_type": "code",
   "execution_count": 57,
   "id": "6cce6034-7946-4004-908b-13dabcbd63c6",
   "metadata": {},
   "outputs": [
    {
     "data": {
      "image/png": "[encoded data removed]",
      "text/plain": [
       "<Figure size 1200x800 with 1 Axes>"
      ]
     },
     "metadata": {},
     "output_type": "display_data"
    }
   ],
   "source": [
    "# Visualize the Decision Tree\n",
    "plt.figure(figsize=(12,8))\n",
    "plot_tree(clf, feature_names=X.columns, class_names=['No', 'Yes'], filled=True)\n",
    "plt.show()"
   ]
  },
  {
   "cell_type": "markdown",
   "id": "d8109517-9a28-48e7-812a-31ec5630dc93",
   "metadata": {},
   "source": [
    "### Interpretation of the Tree"
   ]
  },
  {
   "cell_type": "markdown",
   "id": "d4993fa2-65c7-4fb1-a53d-1b186d8e8efc",
   "metadata": {},
   "source": [
    "1. Understanding the Root Node (Top Node)"
   ]
  },
  {
   "cell_type": "markdown",
   "id": "d4c6f6d1-4e11-46f7-b87a-509dde6073ca",
   "metadata": {},
   "source": [
    "Root Node: Gender <= 0.5\n",
    "- This is the first and most important split in the dataset.\n",
    "- It means Gender is a crucial factor in determining survival.\n",
    "- If Gender <= 0.5 (likely Male), move to the left subtree.\n",
    "- If Gender > 0.5 (likely Female), move to the right subtree.\n",
    "- Gini impurity = 0.49 (moderate impurity, meaning mixed classes).\n",
    "- Values = [77, 89] (77 died, 89 survived).\n",
    "- Since more people survived (class = Yes), the majority class is \"Yes\"."
   ]
  },
  {
   "cell_type": "markdown",
   "id": "94225a9a-0884-4bce-8265-9c4c684a5259",
   "metadata": {},
   "source": [
    "2. Left Subtree (For Males)\n",
    "- First split: Age <= 33.5\n",
    "- Age is the next most important factor for males.\n",
    "- If Age <= 33.5, go left.\n",
    "- If Age > 33.5, go right.\n",
    "For Younger Males (Age ≤ 33.5)\n",
    "- Split on Speed_of_Impact ≤ 11.0:\n",
    "  \n",
    "        - If Speed is low (≤ 11.0), the probability of death is higher (orange node).\n",
    "        - If Speed is high, the probability of survival is higher (blue node).\n",
    "\n",
    "For Older Males (Age > 33.5)\n",
    "- Split on Speed_of_Impact ≤ 56.0:\n",
    "  \n",
    "        - If Speed is low (≤ 56.0), survival rate is higher (blue node).\n",
    "        - If Speed is high (> 56.0), survival rate decreases (orange node)."
   ]
  },
  {
   "cell_type": "markdown",
   "id": "7de75191-f77e-4c43-8548-9fcbb2d24c56",
   "metadata": {},
   "source": [
    "3. Right Subtree (For Females)\n",
    "- First split: Speed_of_Impact <= 116.5\n",
    "- If Speed is low (≤ 116.5), go left.\n",
    "- If Speed is high (> 116.5), go right.\n",
    "- \n",
    "For Lower Speed (Speed ≤ 116.5)\n",
    "- Next split on Age ≤ 41.2:\n",
    "  \n",
    "        - If Age ≤ 41.2, survival is high (blue node).\n",
    "        - If Age > 41.2, death probability increases (orange node).\n",
    "For Higher Speed (Speed > 116.5)\n",
    "- Next split on Speed_of_Impact ≤ 26.5:\n",
    "- \n",
    "        - If Speed is very low (≤ 26.5), survival is higher.\n",
    "        - If Speed is high (> 26.5), death probability is higher."
   ]
  },
  {
   "cell_type": "markdown",
   "id": "3825e998-aeee-4c9a-a0ef-74c0b5d6ec18",
   "metadata": {},
   "source": [
    "4. Insights from the Decision Tree\n",
    "    - Gender is the most important factor (appears at the root).\n",
    "    - Age plays a critical role (appears early in both male and female branches).\n",
    "    - Speed of Impact is a major risk factor (multiple splits based on speed).\n",
    "    - If speed is very high (> 116.5), survival chances drop significantly.\n",
    "    - Younger individuals (Age ≤ 33.5 for males, ≤ 41.2 for females) have a better chance of survival.\n",
    "    - Helmets or seatbelts are not used as primary split points, meaning they may not be as influential in this dataset."
   ]
  },
  {
   "cell_type": "markdown",
   "id": "9c589c90-301e-4c5d-85d4-33a4017e0096",
   "metadata": {},
   "source": [
    "# Random Forest"
   ]
  },
  {
   "cell_type": "markdown",
   "id": "3d1573de-44e5-483c-9489-24df4c939a9d",
   "metadata": {},
   "source": [
    "Random Forest is a powerful machine learning algorithm used for both classification and regression tasks. It is an ensemble learning method that builds multiple decision trees and merges their outputs to improve accuracy and reduce overfitting."
   ]
  },
  {
   "cell_type": "markdown",
   "id": "6918835a-9c98-4460-8f25-b68d38eb6bfc",
   "metadata": {},
   "source": [
    "#### Why Use Random Forest?\n",
    "\n",
    "- Handles large datasets with high dimensionality\n",
    "- Reduces overfitting compared to individual decision trees\n",
    "- Works well for both classification and regression\n",
    "- Can handle missing values effectively\n",
    "- Provides feature importance rankings"
   ]
  },
  {
   "cell_type": "markdown",
   "id": "78d10001-0f49-4b2e-8355-02e1f3d87b9f",
   "metadata": {},
   "source": [
    "#### How Random Forest Works"
   ]
  },
  {
   "cell_type": "markdown",
   "id": "c1fa1991-2ba4-442c-93db-d0d2e1029c5e",
   "metadata": {},
   "source": [
    "Random Forest follows these key steps:\n",
    "\n",
    "- Bootstrap Sampling (Bagging): It randomly selects subsets of the training data (with replacement).\n",
    "- Feature Selection: At each node of a tree, only a random subset of features is considered for splitting.\n",
    "- Building Multiple Decision Trees: Each tree is trained on a different subset of data.\n",
    "- Majority Voting (for Classification) / Averaging (for Regression): The final prediction is made by aggregating the results from all trees."
   ]
  },
  {
   "cell_type": "markdown",
   "id": "7684e789-1921-444a-80a0-b5a53203697b",
   "metadata": {},
   "source": [
    "## Implementation of Random Forest in Python"
   ]
  },
  {
   "cell_type": "code",
   "execution_count": 71,
   "id": "e5aec5ec-74c9-4b89-a035-8c96a19a0418",
   "metadata": {},
   "outputs": [],
   "source": [
    "import pandas as pd\n",
    "import numpy as np\n",
    "import matplotlib.pyplot as plt\n",
    "import seaborn as sns\n",
    "from sklearn.model_selection import train_test_split, GridSearchCV\n",
    "from sklearn.ensemble import RandomForestClassifier\n",
    "from sklearn.metrics import accuracy_score, confusion_matrix, classification_report\n",
    "from sklearn.preprocessing import LabelEncoder"
   ]
  },
  {
   "cell_type": "code",
   "execution_count": 59,
   "id": "08e7028b-a326-4c89-9859-386bce7b1c4e",
   "metadata": {},
   "outputs": [],
   "source": [
    "# Load the dataset\n",
    "file_path = \"accident.csv\"\n",
    "df = pd.read_csv(file_path)"
   ]
  },
  {
   "cell_type": "code",
   "execution_count": 61,
   "id": "9e530499-3c14-4418-8a1d-464b3b138d71",
   "metadata": {},
   "outputs": [],
   "source": [
    "# Handle Missing Values\n",
    "df['Gender'] = df['Gender'].fillna(df['Gender'].mode()[0])  # Fill missing gender with mode\n",
    "df['Speed_of_Impact'] = df['Speed_of_Impact'].fillna(df['Speed_of_Impact'].median())  # Fill missing speed with median\n"
   ]
  },
  {
   "cell_type": "code",
   "execution_count": 63,
   "id": "59f1664d-fcbf-4d87-ad3f-a0436f3e70a1",
   "metadata": {},
   "outputs": [],
   "source": [
    "# Encode Categorical Variables\n",
    "encoder = LabelEncoder()\n",
    "df['Gender'] = encoder.fit_transform(df['Gender'])  # Convert Male=1, Female=0\n",
    "df['Helmet_Used'] = encoder.fit_transform(df['Helmet_Used'])  # Yes=1, No=0\n",
    "df['Seatbelt_Used'] = encoder.fit_transform(df['Seatbelt_Used'])  # Yes=1, No=0"
   ]
  },
  {
   "cell_type": "code",
   "execution_count": 65,
   "id": "9d4dddb3-f1a6-485b-9d12-52c23e9a276e",
   "metadata": {},
   "outputs": [],
   "source": [
    "X = df.drop(columns=['Survived'])\n",
    "y = df['Survived']"
   ]
  },
  {
   "cell_type": "code",
   "execution_count": 67,
   "id": "3d7e5029-620c-406d-889a-69391e4b5dd9",
   "metadata": {},
   "outputs": [],
   "source": [
    "X_train, X_test, y_train, y_test = train_test_split(X, y, test_size=0.2, random_state=42)"
   ]
  },
  {
   "cell_type": "code",
   "execution_count": 73,
   "id": "a3ac6093-edce-42dd-b37a-d5a749f5a7be",
   "metadata": {},
   "outputs": [],
   "source": [
    "# Step 5: Train Random Forest Model\n",
    "rf_model = RandomForestClassifier(n_estimators=100, random_state=42)\n",
    "rf_model.fit(X_train, y_train)\n",
    "\n",
    "y_pred = rf_model.predict(X_test) # Make Predictions"
   ]
  },
  {
   "cell_type": "code",
   "execution_count": 49,
   "id": "bf840431-3d3d-454b-ada3-52af6a3d5846",
   "metadata": {},
   "outputs": [
    {
     "name": "stdout",
     "output_type": "stream",
     "text": [
      "Accuracy: 0.53\n",
      "Confusion Matrix:\n",
      " [[14  8]\n",
      " [11  7]]\n",
      "Classification Report:\n",
      "               precision    recall  f1-score   support\n",
      "\n",
      "           0       0.56      0.64      0.60        22\n",
      "           1       0.47      0.39      0.42        18\n",
      "\n",
      "    accuracy                           0.53        40\n",
      "   macro avg       0.51      0.51      0.51        40\n",
      "weighted avg       0.52      0.53      0.52        40\n",
      "\n"
     ]
    }
   ],
   "source": [
    "#  Model evalution\n",
    "accuracy = accuracy_score(y_test, y_pred)\n",
    "conf_matrix = confusion_matrix(y_test, y_pred)\n",
    "class_report = classification_report(y_test, y_pred)\n",
    "\n",
    "print(f'Accuracy: {accuracy:.2f}')\n",
    "print(\"Confusion Matrix:\\n\", conf_matrix)\n",
    "print(\"Classification Report:\\n\", class_report)"
   ]
  },
  {
   "cell_type": "code",
   "execution_count": 51,
   "id": "4332b955-f2e1-4c55-9ffe-dd86706625fd",
   "metadata": {},
   "outputs": [
    {
     "data": {
      "image/png": "[encoded data removed]",
      "text/plain": [
       "<Figure size 800x500 with 1 Axes>"
      ]
     },
     "metadata": {},
     "output_type": "display_data"
    }
   ],
   "source": [
    "# Feature Importance\n",
    "feature_importance = rf_model.feature_importances_\n",
    "plt.figure(figsize=(8, 5))\n",
    "sns.barplot(x=feature_importance, y=X.columns)\n",
    "plt.xlabel(\"Feature Importance Score\")\n",
    "plt.ylabel(\"Features\")\n",
    "plt.title(\"Importance of Features in Random Forest\")\n",
    "plt.show()"
   ]
  },
  {
   "cell_type": "code",
   "execution_count": null,
   "id": "b3da2c9c-4bdf-4cf1-bd47-8ebb242fb8b7",
   "metadata": {},
   "outputs": [],
   "source": []
  },
  {
   "cell_type": "markdown",
   "id": "926e4ef1-8f54-4273-a98e-68e1fed05e4d",
   "metadata": {},
   "source": [
    "## Practice Exercise\n",
    "\n",
    "#### Use the Titanic data from seaborn to answer the questions below. \n",
    "\n",
    "The Titanic dataset is a well-known real-world dataset that predicts whether a passenger survived based on their characteristics.\n",
    "\n",
    "Dataset Columns:\n",
    "\n",
    "- Survived (Target Variable: 0 = No, 1 = Yes)\n",
    "- Pclass (Passenger Class: 1st, 2nd, 3rd)\n",
    "- Sex (Male/Female)\n",
    "- Age (Passenger Age)\n",
    "- SibSp (Number of Siblings/Spouses Aboard)\n",
    "- Parch (Number of Parents/Children Aboard)\n",
    "- Fare (Ticket Fare)\n",
    "  \n",
    "#### Objective: Train a Decision Tree and Random Forest model to predict who survived the Titanic disaster."
   ]
  },
  {
   "cell_type": "code",
   "execution_count": 78,
   "id": "96fef4f0-6eb2-476f-ac0e-5f483771bb66",
   "metadata": {},
   "outputs": [],
   "source": [
    "import pandas as pd\n",
    "import seaborn as sns\n",
    "from sklearn.model_selection import train_test_split\n",
    "\n",
    "# Load Titanic dataset\n",
    "df = sns.load_dataset('titanic')"
   ]
  },
  {
   "cell_type": "markdown",
   "id": "31bebab5-5af6-4372-9a6c-0a6e0ccf8d9e",
   "metadata": {},
   "source": [
    "## Q1. Data Preparation\n",
    "\n",
    "Tasks:\n",
    "\n",
    "- Drop unnecessary columns (Name, Ticket, Cabin).\n",
    "- Handle missing values (Age, Embarked).\n",
    "- Convert categorical variables (Sex, Embarked) to numerical.\n",
    "- Split data into train and test sets."
   ]
  },
  {
   "cell_type": "markdown",
   "id": "d59b09fa-aa09-4519-8224-bc1e31e0d073",
   "metadata": {},
   "source": [
    "## Q2. Train a Decision Tree Model\n",
    "\n",
    "Task: \n",
    "- Decision Tree Classifier on the Titanic dataset.\n",
    "- Use max_depth=3 and criterion='gini' initially.\n",
    "- Print training and test accuracy.\n",
    "- Visualize the Decision Tree.\n",
    "- Which feature was chosen as the first split? Why?\n",
    "- What happens if you change max_depth to 5?"
   ]
  },
  {
   "cell_type": "markdown",
   "id": "66af240c-9105-4a11-99e8-c12688e05046",
   "metadata": {},
   "source": [
    "## Q3: Improve the Decision Tree\n",
    "\n",
    "Task: \n",
    "\n",
    "- Try changing the max_depth parameter to 5, 7, and None.\n",
    "- Experiment with criterion='entropy' instead of gini.\n",
    "- Use cross-validation to find the best depth.\n",
    "- What is the best max_depth based on accuracy?\n",
    "- How does entropy differ from gini in classification?\n",
    "- What is the effect of increasing tree depth?"
   ]
  },
  {
   "cell_type": "markdown",
   "id": "3a9021a7-0561-482c-9ef2-55e96c901a50",
   "metadata": {},
   "source": [
    "## Q4. Implement a Random Forest Model\n",
    "\n",
    "Tasks: \n",
    "\n",
    "- Train a Random Forest model with 100 trees (n_estimators=100).\n",
    "- Compare its accuracy with the Decision Tree model.\n",
    "- Find feature importance to see which variables matter most.\n",
    "- Does Random Forest perform better than Decision Tree? Why?\n",
    "- Which features are most important in predicting survival?\n",
    "- What happens if you reduce the number of trees (n_estimators=10)?"
   ]
  },
  {
   "cell_type": "code",
   "execution_count": null,
   "id": "e3dee52f-c29a-4adf-a478-5e793d2eaabf",
   "metadata": {},
   "outputs": [],
   "source": []
  }
 ],
 "metadata": {
  "kernelspec": {
   "display_name": "Python [conda env:base] *",
   "language": "python",
   "name": "conda-base-py"
  },
  "language_info": {
   "codemirror_mode": {
    "name": "ipython",
    "version": 3
   },
   "file_extension": ".py",
   "mimetype": "text/x-python",
   "name": "python",
   "nbconvert_exporter": "python",
   "pygments_lexer": "ipython3",
   "version": "3.12.7"
  }
 },
 "nbformat": 4,
 "nbformat_minor": 5
}
