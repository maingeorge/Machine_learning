{
 "cells": [
  {
   "cell_type": "code",
   "execution_count": 4,
   "id": "6c836b97-c3e1-40c5-b46f-bcb07f6c59f6",
   "metadata": {},
   "outputs": [
    {
     "name": "stdout",
     "output_type": "stream",
     "text": [
      "Cleaned Dataset Head:\n",
      "   is_trp_active  is_nil_return  gross_tax    net_tax  filing_status  \\\n",
      "0              1              1       0.00       0.00              1   \n",
      "1              1              0    2312.65    2312.65              3   \n",
      "2              1              0       0.00 -260489.68              0   \n",
      "3              1              0       0.00   -2161.00              0   \n",
      "4              1              0   -8093.08   -8093.08              0   \n",
      "\n",
      "   filing_time  special_table  \n",
      "0            1              0  \n",
      "1            1              0  \n",
      "2            1              0  \n",
      "3            1              0  \n",
      "4            1              0  \n"
     ]
    }
   ],
   "source": [
    "import pandas as pd\n",
    "\n",
    "# Load the dataset\n",
    "file_path = (\"C:/Users/user/Downloads/VAT_Indi_['2024-09'].csv\")\n",
    "df = pd.read_csv(file_path)\n",
    "\n",
    "# Drop rows with missing values\n",
    "df_cleaned = df.dropna().copy()\n",
    "\n",
    "# Define categorical encoding based on user instructions\n",
    "encoding_map = {\n",
    "    'is_trp_active': {'Y': 1, 'N': 0},\n",
    "    'is_nil_return': {'Y': 1, 'N': 0},\n",
    "    'filing_status': {\n",
    "        'CREDIT FILER': 0, 'NIL FILER': 1, 'NON FILER': 2, 'PAYMENT FILER': 3, 'ZERO FILER': 4\n",
    "    },\n",
    "    'filing_time': {'LATE FILER': 0, 'ON-TIME FILER': 1},\n",
    "    'special_table': {'COMPLIANT': 0, 'NOT COMPLIANT': 1}\n",
    "}\n",
    "\n",
    "# Apply encoding to categorical columns\n",
    "for column, mapping in encoding_map.items():\n",
    "    df_cleaned[column] = df_cleaned[column].map(mapping)\n",
    "\n",
    "# Keep only relevant columns\n",
    "columns_to_keep = ['is_trp_active', 'is_nil_return', 'gross_tax', 'net_tax', 'filing_status', 'filing_time', 'special_table']\n",
    "df_cleaned = df_cleaned[columns_to_keep]\n",
    "\n",
    "# Display the cleaned dataset\n",
    "print(\"Cleaned Dataset Head:\")\n",
    "print(df_cleaned.head())\n",
    "\n",
    "# Save the cleaned dataset\n",
    "df_cleaned.to_csv(\"C:/Users/user/Downloads/VAT_Indi_['2024-09']_A.csv\", index=False)\n",
    "\n"
   ]
  },
  {
   "cell_type": "code",
   "execution_count": 5,
   "id": "b9573802-9756-47a1-a013-7293c7cbde12",
   "metadata": {},
   "outputs": [
    {
     "name": "stdout",
     "output_type": "stream",
     "text": [
      "\n",
      "Summary Statistics:\n",
      "       is_trp_active  is_nil_return     gross_tax       net_tax  \\\n",
      "count  421716.000000  421716.000000  4.217160e+05  4.217160e+05   \n",
      "mean        0.990432       0.139945  1.376218e+06 -1.657563e+06   \n",
      "std         0.097347       0.346930  7.836761e+08  9.589237e+08   \n",
      "min         0.000000       0.000000 -6.929633e+08 -2.069470e+11   \n",
      "25%         1.000000       0.000000  0.000000e+00 -1.187320e+05   \n",
      "50%         1.000000       0.000000  0.000000e+00 -5.288640e+03   \n",
      "75%         1.000000       0.000000  2.018634e+04  9.851175e+02   \n",
      "max         1.000000       1.000000  5.088780e+11  5.088780e+11   \n",
      "\n",
      "       filing_status    filing_time  special_table  \n",
      "count  421716.000000  421716.000000  421716.000000  \n",
      "mean        1.020383       0.936324       0.016838  \n",
      "std         1.348688       0.244174       0.128666  \n",
      "min         0.000000       0.000000       0.000000  \n",
      "25%         0.000000       1.000000       0.000000  \n",
      "50%         0.000000       1.000000       0.000000  \n",
      "75%         3.000000       1.000000       0.000000  \n",
      "max         4.000000       1.000000       1.000000  \n"
     ]
    },
    {
     "data": {
      "image/png": "[encoded data removed]",
      "text/plain": [
       "<Figure size 432x288 with 1 Axes>"
      ]
     },
     "metadata": {
      "needs_background": "light"
     },
     "output_type": "display_data"
    },
    {
     "data": {
      "image/png": "[encoded data removed]",
      "text/plain": [
       "<Figure size 432x288 with 1 Axes>"
      ]
     },
     "metadata": {
      "needs_background": "light"
     },
     "output_type": "display_data"
    }
   ],
   "source": [
    "import pandas as pd\n",
    "import seaborn as sns\n",
    "import matplotlib.pyplot as plt\n",
    "import numpy as np\n",
    "\n",
    "# Load the dataset\n",
    "file_path = (\"C:/Users/user/Downloads/VAT_Indi_['2024-09']_A.csv\")  # Ensure the cleaned dataset exists\n",
    "df = pd.read_csv(file_path)\n",
    "\n",
    "# Keep only the specified columns\n",
    "df = df[['is_trp_active', 'is_nil_return', 'gross_tax', 'net_tax', 'filing_status', 'filing_time', 'special_table']]\n",
    "\n",
    "# Compute summary statistics\n",
    "print(\"\\nSummary Statistics:\")\n",
    "print(df.describe())\n",
    "\n",
    "# Plot the distribution of 'filing_time'\n",
    "sns.countplot(x='filing_time', data=df, palette='pastel')\n",
    "plt.title('Filing Time Distribution')\n",
    "plt.xticks(ticks=[0, 1], labels=['Late Time Filer', 'On Time Filer'])\n",
    "plt.show()\n",
    "\n",
    "# Check filing time based on compliance status\n",
    "sns.barplot(x='special_table', y='filing_time', data=df, palette='coolwarm')\n",
    "plt.title('Filing Time by Compliance Status')\n",
    "plt.xticks(ticks=[0, 1], labels=['Compliant', 'Not Compliant'])\n",
    "plt.show()\n",
    "\n"
   ]
  },
  {
   "cell_type": "code",
   "execution_count": 6,
   "id": "58472150-8fc8-4cad-9b03-13084ccc7d85",
   "metadata": {},
   "outputs": [
    {
     "name": "stdout",
     "output_type": "stream",
     "text": [
      "\n",
      "Processed dataset:\n",
      "   is_trp_active  is_nil_return  gross_tax   net_tax  filing_time  \\\n",
      "0              1              1  -0.001756  0.001729            1   \n",
      "1              1              0  -0.001753  0.001731            1   \n",
      "2              1              0  -0.001756  0.001457            1   \n",
      "3              1              0  -0.001756  0.001726            1   \n",
      "4              1              0  -0.001766  0.001720            1   \n",
      "\n",
      "   special_table  filing_status_1  filing_status_3  filing_status_4  \n",
      "0              0                1                0                0  \n",
      "1              0                0                1                0  \n",
      "2              0                0                0                0  \n",
      "3              0                0                0                0  \n",
      "4              0                0                0                0  \n"
     ]
    }
   ],
   "source": [
    "import pandas as pd\n",
    "import seaborn as sns\n",
    "import matplotlib.pyplot as plt\n",
    "import numpy as np\n",
    "from sklearn.preprocessing import StandardScaler\n",
    "\n",
    "# Load the dataset\n",
    "file_path = (\"C:/Users/user/Downloads/VAT_Indi_['2024-09']_A.csv\")  # Ensure the cleaned dataset exists\n",
    "df = pd.read_csv(file_path)\n",
    "\n",
    "# Select relevant features\n",
    "features = ['is_trp_active', 'is_nil_return', 'gross_tax', 'net_tax', 'filing_status', 'filing_time', 'special_table']\n",
    "df = df[features]\n",
    "\n",
    "# Convert categorical variables to numeric using one-hot encoding\n",
    "df = pd.get_dummies(df, columns=['filing_status'], drop_first=True)\n",
    "\n",
    "# Apply feature scaling to numerical variables\n",
    "scaler = StandardScaler()\n",
    "df[['gross_tax', 'net_tax']] = scaler.fit_transform(df[['gross_tax', 'net_tax']])\n",
    "\n",
    "# Display processed dataset\n",
    "print(\"\\nProcessed dataset:\")\n",
    "print(df.head())\n",
    "\n"
   ]
  },
  {
   "cell_type": "code",
   "execution_count": 7,
   "id": "1978dca2-01d0-4d76-ae55-2ac209e1e8c9",
   "metadata": {},
   "outputs": [
    {
     "name": "stdout",
     "output_type": "stream",
     "text": [
      "\n",
      "Model Coefficients:\n",
      "   is_trp_active  is_nil_return  gross_tax   net_tax  special_table  \\\n",
      "0      -0.116985      -0.525982  -0.057078 -0.091619      -0.690851   \n",
      "\n",
      "   filing_status_1  filing_status_3  filing_status_4  \n",
      "0        -0.525982        -0.016197        -0.767064  \n",
      "\n",
      "Model Accuracy on Test Data: 0.9363084511049986\n",
      "\n",
      "Classification Report:\n",
      "              precision    recall  f1-score   support\n",
      "\n",
      "           0       0.00      0.00      0.00      5371\n",
      "           1       0.94      1.00      0.97     78973\n",
      "\n",
      "    accuracy                           0.94     84344\n",
      "   macro avg       0.47      0.50      0.48     84344\n",
      "weighted avg       0.88      0.94      0.91     84344\n",
      "\n"
     ]
    }
   ],
   "source": [
    "import pandas as pd\n",
    "import seaborn as sns\n",
    "import matplotlib.pyplot as plt\n",
    "import numpy as np\n",
    "from sklearn.preprocessing import StandardScaler\n",
    "from sklearn.linear_model import LogisticRegression\n",
    "from sklearn.model_selection import train_test_split\n",
    "from sklearn.metrics import accuracy_score, classification_report\n",
    "\n",
    "# Load the dataset\n",
    "file_path = (\"C:/Users/user/Downloads/VAT_Indi_['2024-09']_A.csv\")  # Ensure the cleaned dataset exists\n",
    "df = pd.read_csv(file_path)\n",
    "\n",
    "# Select relevant features\n",
    "selected_features = ['is_trp_active', 'is_nil_return', 'gross_tax', 'net_tax', 'filing_status', 'special_table']\n",
    "X = df[selected_features].copy()\n",
    "y = df['filing_time'].copy()\n",
    "\n",
    "# Convert categorical variables to numeric (one-hot encoding)\n",
    "X = pd.get_dummies(X, columns=['filing_status'], drop_first=True)\n",
    "\n",
    "# Apply feature scaling\n",
    "scaler = StandardScaler()\n",
    "X[['gross_tax', 'net_tax']] = scaler.fit_transform(X[['gross_tax', 'net_tax']])\n",
    "\n",
    "# Split data into training (80%) and testing (20%)\n",
    "X_train, X_test, y_train, y_test = train_test_split(X, y, test_size=0.2, random_state=42, stratify=y)\n",
    "\n",
    "# Train Logistic Regression Model\n",
    "log_model = LogisticRegression()\n",
    "log_model.fit(X_train, y_train)\n",
    "\n",
    "# Print model coefficients\n",
    "print(\"\\nModel Coefficients:\")\n",
    "coefficients = pd.DataFrame(log_model.coef_, columns=X.columns)\n",
    "print(coefficients)\n",
    "\n",
    "# Make predictions\n",
    "y_pred = log_model.predict(X_test)\n",
    "\n",
    "# Evaluate model\n",
    "print(\"\\nModel Accuracy on Test Data:\", accuracy_score(y_test, y_pred))\n",
    "print(\"\\nClassification Report:\")\n",
    "print(classification_report(y_test, y_pred, zero_division=1))\n",
    "\n"
   ]
  },
  {
   "cell_type": "code",
   "execution_count": 8,
   "id": "71760bab-e93d-42b3-881c-30a93d82ab6e",
   "metadata": {},
   "outputs": [
    {
     "name": "stdout",
     "output_type": "stream",
     "text": [
      "\n",
      "Model Coefficients:\n",
      "   is_trp_active  is_nil_return  gross_tax   net_tax  special_table  \\\n",
      "0      -0.116985      -0.525982  -0.057078 -0.091619      -0.690851   \n",
      "\n",
      "   filing_status_1  filing_status_3  filing_status_4  \n",
      "0        -0.525982        -0.016197        -0.767064  \n",
      "\n",
      "Model Accuracy on Test Data: 0.9363084511049986\n",
      "\n",
      "Classification Report:\n",
      "              precision    recall  f1-score   support\n",
      "\n",
      "           0       0.00      0.00      0.00      5371\n",
      "           1       0.94      1.00      0.97     78973\n",
      "\n",
      "    accuracy                           0.94     84344\n",
      "   macro avg       0.47      0.50      0.48     84344\n",
      "weighted avg       0.88      0.94      0.91     84344\n",
      "\n"
     ]
    },
    {
     "data": {
      "image/png": "[encoded data removed]",
      "text/plain": [
       "<Figure size 432x288 with 2 Axes>"
      ]
     },
     "metadata": {
      "needs_background": "light"
     },
     "output_type": "display_data"
    },
    {
     "data": {
      "image/png": "[encoded data removed]",
      "text/plain": [
       "<Figure size 432x288 with 1 Axes>"
      ]
     },
     "metadata": {
      "needs_background": "light"
     },
     "output_type": "display_data"
    }
   ],
   "source": [
    "import pandas as pd\n",
    "import seaborn as sns\n",
    "import matplotlib.pyplot as plt\n",
    "import numpy as np\n",
    "from sklearn.preprocessing import StandardScaler\n",
    "from sklearn.linear_model import LogisticRegression\n",
    "from sklearn.model_selection import train_test_split\n",
    "from sklearn.metrics import accuracy_score, classification_report, confusion_matrix, roc_curve, auc\n",
    "\n",
    "# Load the dataset\n",
    "file_path = (\"C:/Users/user/Downloads/VAT_Indi_['2024-09']_A.csv\")  # Ensure the cleaned dataset exists\n",
    "df = pd.read_csv(file_path)\n",
    "\n",
    "# Select relevant features\n",
    "selected_features = ['is_trp_active', 'is_nil_return', 'gross_tax', 'net_tax', 'filing_status', 'special_table']\n",
    "X = df[selected_features].copy()\n",
    "y = df['filing_time'].copy()\n",
    "\n",
    "# Convert categorical variables to numeric (one-hot encoding)\n",
    "X = pd.get_dummies(X, columns=['filing_status'], drop_first=True)\n",
    "\n",
    "# Apply feature scaling\n",
    "scaler = StandardScaler()\n",
    "X[['gross_tax', 'net_tax']] = scaler.fit_transform(X[['gross_tax', 'net_tax']])\n",
    "\n",
    "# Split data into training (80%) and testing (20%)\n",
    "X_train, X_test, y_train, y_test = train_test_split(X, y, test_size=0.2, random_state=42, stratify=y)\n",
    "\n",
    "# Train Logistic Regression Model\n",
    "log_model = LogisticRegression()\n",
    "log_model.fit(X_train, y_train)\n",
    "\n",
    "# Print model coefficients\n",
    "print(\"\\nModel Coefficients:\")\n",
    "coefficients = pd.DataFrame(log_model.coef_, columns=X.columns)\n",
    "print(coefficients)\n",
    "\n",
    "# Make predictions\n",
    "y_pred = log_model.predict(X_test)\n",
    "\n",
    "# Evaluate model\n",
    "print(\"\\nModel Accuracy on Test Data:\", accuracy_score(y_test, y_pred))\n",
    "print(\"\\nClassification Report:\")\n",
    "print(classification_report(y_test, y_pred, zero_division=1))\n",
    "\n",
    "# Compute confusion matrix\n",
    "conf_matrix = confusion_matrix(y_test, y_pred)\n",
    "plt.figure(figsize=(6, 4))\n",
    "sns.heatmap(conf_matrix, annot=True, fmt='d', cmap='coolwarm', xticklabels=['Late', 'On Time'], yticklabels=['Late', 'On Time'])\n",
    "plt.xlabel('Predicted')\n",
    "plt.ylabel('Actual')\n",
    "plt.title('Confusion Matrix')\n",
    "plt.show()\n",
    "\n",
    "# Compute ROC curve and AUC\n",
    "fpr, tpr, _ = roc_curve(y_test, log_model.predict_proba(X_test)[:, 1])\n",
    "roc_auc = auc(fpr, tpr)\n",
    "\n",
    "# Plot ROC curve\n",
    "plt.figure(figsize=(6, 4))\n",
    "plt.plot(fpr, tpr, color='blue', lw=2, label=f'ROC curve (area = {roc_auc:.2f}')\n",
    "plt.plot([0, 1], [0, 1], color='grey', lw=2, linestyle='--')\n",
    "plt.xlim([0.0, 1.0])\n",
    "plt.ylim([0.0, 1.05])\n",
    "plt.xlabel('False Positive Rate')\n",
    "plt.ylabel('True Positive Rate')\n",
    "plt.title('Receiver Operating Characteristic (ROC) Curve')\n",
    "plt.legend(loc='lower right')\n",
    "plt.show()\n"
   ]
  },
  {
   "cell_type": "code",
   "execution_count": null,
   "id": "e3c0e8e8-a85b-4ed9-92f1-8c84a2dfa5da",
   "metadata": {},
   "outputs": [],
   "source": []
  }
 ],
 "metadata": {
  "kernelspec": {
   "display_name": "Python 3 (ipykernel)",
   "language": "python",
   "name": "python3"
  },
  "language_info": {
   "codemirror_mode": {
    "name": "ipython",
    "version": 3
   },
   "file_extension": ".py",
   "mimetype": "text/x-python",
   "name": "python",
   "nbconvert_exporter": "python",
   "pygments_lexer": "ipython3",
   "version": "3.9.12"
  }
 },
 "nbformat": 4,
 "nbformat_minor": 5
}
