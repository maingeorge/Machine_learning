{
 "cells": [
  {
   "cell_type": "code",
   "execution_count": null,
   "id": "0a08519f-6be7-4c05-9874-96b7828d125a",
   "metadata": {},
   "outputs": [],
   "source": [
    "## personal details "
   ]
  },
  {
   "cell_type": "code",
   "execution_count": 6,
   "id": "9a95ff78-2a9d-43d6-a375-e68a8d58facb",
   "metadata": {},
   "outputs": [],
   "source": [
    "KK = {\n",
    "    \"fullname\": \"My full name is George\",\n",
    "    \"age\": 18,\n",
    "    \"country\": \"Kenya\",\n",
    "    \"marital_status\": \"Complicated\"}\n"
   ]
  },
  {
   "cell_type": "code",
   "execution_count": 7,
   "id": "292ce4ad-1f21-43cd-b717-f8c6846cb56f",
   "metadata": {},
   "outputs": [
    {
     "data": {
      "text/plain": [
       "'My full name is George'"
      ]
     },
     "execution_count": 7,
     "metadata": {},
     "output_type": "execute_result"
    }
   ],
   "source": [
    "KK[\"fullname\"]"
   ]
  },
  {
   "cell_type": "code",
   "execution_count": 8,
   "id": "252018df-231b-4745-8075-4bad07ef62d7",
   "metadata": {},
   "outputs": [
    {
     "data": {
      "text/plain": [
       "18"
      ]
     },
     "execution_count": 8,
     "metadata": {},
     "output_type": "execute_result"
    }
   ],
   "source": [
    "KK[\"age\"]"
   ]
  },
  {
   "cell_type": "code",
   "execution_count": null,
   "id": "ed520034-668a-4461-998e-5c838cbd4180",
   "metadata": {},
   "outputs": [],
   "source": []
  }
 ],
 "metadata": {
  "kernelspec": {
   "display_name": "Python 3 (ipykernel)",
   "language": "python",
   "name": "python3"
  },
  "language_info": {
   "codemirror_mode": {
    "name": "ipython",
    "version": 3
   },
   "file_extension": ".py",
   "mimetype": "text/x-python",
   "name": "python",
   "nbconvert_exporter": "python",
   "pygments_lexer": "ipython3",
   "version": "3.9.12"
  }
 },
 "nbformat": 4,
 "nbformat_minor": 5
}
