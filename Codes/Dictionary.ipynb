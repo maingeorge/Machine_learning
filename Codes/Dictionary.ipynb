{
 "cells": [
  {
   "cell_type": "markdown",
   "id": "e72cef68-5781-44e6-b819-8dcd0af51f28",
   "metadata": {},
   "source": [
    "# Python Dictionaries"
   ]
  },
  {
   "cell_type": "markdown",
   "id": "06ba2c55-4204-4caa-8716-8aded6fa270f",
   "metadata": {},
   "source": [
    "A dictionary in Python is an unordered, mutable collection that stores key-value pairs. Each key is unique, and values can be of any data type."
   ]
  },
  {
   "cell_type": "markdown",
   "id": "a716b091-6d6d-465d-a5de-44a908d9e616",
   "metadata": {},
   "source": [
    "## Syntax"
   ]
  },
  {
   "cell_type": "code",
   "execution_count": 17,
   "id": "3fc7f458-90d7-40e4-bf8a-a1addca86d95",
   "metadata": {},
   "outputs": [],
   "source": [
    "my_dict = {\n",
    "    \"name\": \"Alice\",\n",
    "    \"age\": 25,\n",
    "    \"city\": \"Nairobi\"\n",
    "}"
   ]
  },
  {
   "cell_type": "markdown",
   "id": "31e3252b-4dc7-4536-a9bf-4bf6032dd25f",
   "metadata": {},
   "source": [
    "- Keys: Must be immutable (strings, numbers, or tuples).\n",
    "- Values: Can be any data type."
   ]
  },
  {
   "cell_type": "markdown",
   "id": "36255f5a-ef83-460e-a252-105cc447b5db",
   "metadata": {},
   "source": [
    "## Applications of Dictionaries in Python"
   ]
  },
  {
   "cell_type": "markdown",
   "id": "0486a714-31c8-406b-b59f-2e0fe2b29975",
   "metadata": {},
   "source": [
    "Dictionaries are useful for:\n",
    "\n",
    "- Storing structured data (e.g., user profiles, configurations).\n",
    "- Fast lookups (O(1) time complexity).\n",
    "- Mapping relationships (e.g., phone books, translations).\n",
    "- Counting occurrences (word frequency, voting systems)."
   ]
  },
  {
   "cell_type": "code",
   "execution_count": 18,
   "id": "031e5778-c7f9-4d17-8398-4e56d9813f21",
   "metadata": {},
   "outputs": [
    {
     "name": "stdout",
     "output_type": "stream",
     "text": [
      "92\n"
     ]
    }
   ],
   "source": [
    "students = {\n",
    "    \"John\": 85,\n",
    "    \"Jane\": 92,\n",
    "    \"Tom\": 78\n",
    "}\n",
    "print(students[\"Jane\"])"
   ]
  },
  {
   "cell_type": "markdown",
   "id": "a814d214-c014-4915-a0f4-7b42d41235b9",
   "metadata": {},
   "source": [
    "## Accessing Dictionary Items"
   ]
  },
  {
   "cell_type": "markdown",
   "id": "0d97f729-0f2f-4fcc-9144-6527e74de8dd",
   "metadata": {},
   "source": [
    "### Method 1: Using Keys"
   ]
  },
  {
   "cell_type": "code",
   "execution_count": 19,
   "id": "cdac5eef-722d-45cb-8d14-fc4226215afa",
   "metadata": {},
   "outputs": [
    {
     "name": "stdout",
     "output_type": "stream",
     "text": [
      "Alice\n"
     ]
    }
   ],
   "source": [
    "person = {\"name\": \"Alice\", \"age\": 25, \"city\": \"Nairobi\"}\n",
    "print(person[\"name\"])"
   ]
  },
  {
   "cell_type": "code",
   "execution_count": 20,
   "id": "27b71df0-6552-40ad-bd63-529950c45ef2",
   "metadata": {},
   "outputs": [
    {
     "ename": "KeyError",
     "evalue": "'ward'",
     "output_type": "error",
     "traceback": [
      "\u001b[1;31m---------------------------------------------------------------------------\u001b[0m",
      "\u001b[1;31mKeyError\u001b[0m                                  Traceback (most recent call last)",
      "Cell \u001b[1;32mIn[20], line 1\u001b[0m\n\u001b[1;32m----> 1\u001b[0m \u001b[38;5;28mprint\u001b[39m(\u001b[43mperson\u001b[49m\u001b[43m[\u001b[49m\u001b[38;5;124;43m\"\u001b[39;49m\u001b[38;5;124;43mward\u001b[39;49m\u001b[38;5;124;43m\"\u001b[39;49m\u001b[43m]\u001b[49m) \u001b[38;5;66;03m# Raises KeyError if key does not exist\u001b[39;00m\n",
      "\u001b[1;31mKeyError\u001b[0m: 'ward'"
     ]
    }
   ],
   "source": [
    "print(person[\"ward\"]) # Raises KeyError if key does not exist"
   ]
  },
  {
   "cell_type": "markdown",
   "id": "42d656b6-0e22-4d91-aaee-895130df47a4",
   "metadata": {},
   "source": [
    "### Method 2: Using get()"
   ]
  },
  {
   "cell_type": "code",
   "execution_count": null,
   "id": "800ca6ad-26ef-4298-a69d-6b8143e43fe5",
   "metadata": {},
   "outputs": [],
   "source": [
    "print(person.get(\"age\"))       \n",
    "print(person.get(\"country\")) # Output: None (No KeyError)"
   ]
  },
  {
   "cell_type": "markdown",
   "id": "883992e6-30bb-4967-b291-b41bc09a6344",
   "metadata": {},
   "source": [
    "# Changing Dictionary Items"
   ]
  },
  {
   "cell_type": "markdown",
   "id": "cce253fa-fbcb-4705-9d39-35aac1d9c51f",
   "metadata": {},
   "source": [
    "We can modify the values of existing keys."
   ]
  },
  {
   "cell_type": "code",
   "execution_count": null,
   "id": "465625d0-e422-445d-a65b-4b8d032962e2",
   "metadata": {},
   "outputs": [],
   "source": [
    "person[\"age\"] = 26\n",
    "print(person)"
   ]
  },
  {
   "cell_type": "markdown",
   "id": "33a815d5-706e-41fa-841f-6ce395f318fc",
   "metadata": {},
   "source": [
    "# Adding Items to a Dictionary"
   ]
  },
  {
   "cell_type": "code",
   "execution_count": null,
   "id": "ffddd8d8-c82f-4fd8-b1c3-f0dd0898e890",
   "metadata": {},
   "outputs": [],
   "source": [
    "person[\"profession\"] = \"Engineer\"\n",
    "print(person)"
   ]
  },
  {
   "cell_type": "markdown",
   "id": "dbd6a415-cbe2-4082-8260-51a95fd42e7d",
   "metadata": {},
   "source": [
    "# Removing Items from a Dictionary"
   ]
  },
  {
   "cell_type": "markdown",
   "id": "b85800fa-1b57-4d86-b9e7-caeeae4f4a8b",
   "metadata": {},
   "source": [
    "## Method 1: pop()\n",
    "Removes a key and returns its value."
   ]
  },
  {
   "cell_type": "code",
   "execution_count": null,
   "id": "af07afb6-ad23-467d-aea6-e6990b41bd61",
   "metadata": {},
   "outputs": [],
   "source": [
    "age = person.pop(\"age\")\n",
    "print(age)  # Output: 26\n",
    "print(person)"
   ]
  },
  {
   "cell_type": "markdown",
   "id": "e9ac7d71-df11-47d5-a521-8a8370987e13",
   "metadata": {},
   "source": [
    "## Method 2: del\n",
    "Deletes a specific key or the entire dictionary."
   ]
  },
  {
   "cell_type": "code",
   "execution_count": null,
   "id": "1ac50cc2-2644-4763-a963-10a40f394313",
   "metadata": {},
   "outputs": [],
   "source": [
    "del person[\"city\"]\n",
    "print(person)"
   ]
  },
  {
   "cell_type": "markdown",
   "id": "aea39d32-80b0-42f4-9621-0d2751e28ff7",
   "metadata": {},
   "source": [
    "## Method 3: popitem()\n",
    "Removes the last inserted key-value pair."
   ]
  },
  {
   "cell_type": "code",
   "execution_count": null,
   "id": "4c90d0fc-8395-4830-9a0a-dbf347e4cb62",
   "metadata": {},
   "outputs": [],
   "source": [
    "last_item = person.popitem()\n",
    "print(last_item)"
   ]
  },
  {
   "cell_type": "markdown",
   "id": "c77c632b-afce-4da1-b51b-402045069c7e",
   "metadata": {},
   "source": [
    "## Method 4: clear()\n",
    "Removes all items."
   ]
  },
  {
   "cell_type": "code",
   "execution_count": null,
   "id": "9d97a34d-0244-4aa1-ac1f-6f1b36f1b0d0",
   "metadata": {},
   "outputs": [],
   "source": [
    "person.clear()\n",
    "print(person)"
   ]
  },
  {
   "cell_type": "markdown",
   "id": "b8005eb0-25a9-4a72-8aea-5a41660f337d",
   "metadata": {},
   "source": [
    "# Copying Dictionaries"
   ]
  },
  {
   "cell_type": "markdown",
   "id": "c6b3c357-d45e-41b2-95ee-b9179a650236",
   "metadata": {},
   "source": [
    "## Method 1: Using copy()"
   ]
  },
  {
   "cell_type": "code",
   "execution_count": null,
   "id": "cacc7929-d477-45eb-98c8-b1398a95c9aa",
   "metadata": {},
   "outputs": [],
   "source": [
    "original = {\"name\": \"Alice\", \"age\": 25}\n",
    "copy_dict = original.copy()\n",
    "print(copy_dict)"
   ]
  },
  {
   "cell_type": "markdown",
   "id": "e9b08c3d-ce94-4058-98e0-3433b2b51b3a",
   "metadata": {},
   "source": [
    "## Method 2: Using dict() Constructor"
   ]
  },
  {
   "cell_type": "code",
   "execution_count": null,
   "id": "73cfbad7-bac4-41e3-976f-032dd33c0b9d",
   "metadata": {},
   "outputs": [],
   "source": [
    "copy_dict = dict(original)\n",
    "print(copy_dict)"
   ]
  },
  {
   "cell_type": "markdown",
   "id": "057e1325-9dba-4e80-822a-db5ac5b30268",
   "metadata": {},
   "source": [
    "# Nested Dictionaries\n",
    "A nested dictionary is a dictionary inside another dictionary."
   ]
  },
  {
   "cell_type": "code",
   "execution_count": null,
   "id": "bd28c73a-6755-4041-8ccf-f2c028b76823",
   "metadata": {},
   "outputs": [],
   "source": [
    "students = {\n",
    "    \"student1\": {\"name\": \"Alice\", \"age\": 25},\n",
    "    \"student2\": {\"name\": \"Bob\", \"age\": 24}\n",
    "}\n",
    "print(students[\"student1\"][\"name\"])"
   ]
  },
  {
   "cell_type": "markdown",
   "id": "ad08d441-85bd-4055-a515-32650d375711",
   "metadata": {},
   "source": [
    "# Exercises"
   ]
  },
  {
   "cell_type": "markdown",
   "id": "c9858824-7e83-47b5-9b36-c2ce8056bca4",
   "metadata": {},
   "source": [
    "### Exercise 1"
   ]
  },
  {
   "cell_type": "markdown",
   "id": "84d14a41-fb32-4988-a873-3593f66fd200",
   "metadata": {},
   "source": [
    "Create a dictionary named student with the following key-value pairs:\n",
    "\n",
    "- \"name\": \"John Doe\"\n",
    "- \"age\": 21\n",
    "- \"course\": \"Data Science\"\n",
    "1. Print the age of the student.\n",
    "2. Use get() to fetch the course."
   ]
  },
  {
   "cell_type": "markdown",
   "id": "59a0ce3c-4bcf-485f-96a9-9d1f1e36520b",
   "metadata": {},
   "source": [
    "### Exercise 2\n",
    "1. Add a key \"grade\" with value \"A\" to the student dictionary.\n",
    "2. Change \"age\" to 22.\n",
    "3. Print the updated dictionary."
   ]
  },
  {
   "cell_type": "markdown",
   "id": "908cf550-2cb5-4903-b2ec-3f7017b3d913",
   "metadata": {},
   "source": [
    "### Exercise 3\n",
    "1. Remove the \"course\" key using pop().\n",
    "2. Delete the \"grade\" key using del.\n",
    "3. Print the dictionary after deletion."
   ]
  },
  {
   "cell_type": "markdown",
   "id": "12512b5a-38b0-4902-9177-cbe8e0c67ed4",
   "metadata": {},
   "source": [
    "### Exercise 4"
   ]
  },
  {
   "cell_type": "markdown",
   "id": "3d221f98-29e1-4bf6-90e9-75526cc335ec",
   "metadata": {},
   "source": [
    "Create a nested dictionary of three students, each having \"name\", \"age\", and \"score\". Print the score of the second student."
   ]
  },
  {
   "cell_type": "markdown",
   "id": "cc94e0e5-0905-4fcc-880b-2f906231ec25",
   "metadata": {},
   "source": []
  },
  {
   "cell_type": "code",
   "execution_count": null,
   "id": "f5f437a1-3431-46c9-8d26-cda0f0f23740",
   "metadata": {},
   "outputs": [],
   "source": []
  },
  {
   "cell_type": "code",
   "execution_count": null,
   "id": "35db39e7-8141-4df6-b948-f2c38cc3b8da",
   "metadata": {},
   "outputs": [],
   "source": []
  }
 ],
 "metadata": {
  "kernelspec": {
   "display_name": "Python 3 (ipykernel)",
   "language": "python",
   "name": "python3"
  },
  "language_info": {
   "codemirror_mode": {
    "name": "ipython",
    "version": 3
   },
   "file_extension": ".py",
   "mimetype": "text/x-python",
   "name": "python",
   "nbconvert_exporter": "python",
   "pygments_lexer": "ipython3",
   "version": "3.13.2"
  }
 },
 "nbformat": 4,
 "nbformat_minor": 5
}
