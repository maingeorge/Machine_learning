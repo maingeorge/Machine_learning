{
 "cells": [
  {
   "cell_type": "markdown",
   "id": "d54398a9-c64d-4b30-a3db-adaf59eaba2f",
   "metadata": {},
   "source": [
    "# The while Loop"
   ]
  },
  {
   "cell_type": "markdown",
   "id": "28b44063-8064-409a-be58-bcdff897f30b",
   "metadata": {},
   "source": [
    "A while loop in Python is used to execute a block of code repeatedly as long as a given condition is True. The loop stops executing when the condition evaluates to False."
   ]
  },
  {
   "cell_type": "markdown",
   "id": "e2f36e41-fece-4a5b-a5e8-d6c3407b4416",
   "metadata": {},
   "source": [
    "# Syntax"
   ]
  },
  {
   "cell_type": "code",
   "execution_count": null,
   "id": "6bf67f16-6e61-4135-8fa1-411d8baa0e2a",
   "metadata": {},
   "outputs": [],
   "source": [
    "while condition:\n",
    "    # Code to execute"
   ]
  },
  {
   "cell_type": "markdown",
   "id": "9bef80ef-4834-4259-9585-e6c871383d7c",
   "metadata": {},
   "source": [
    "How it Works:\n",
    "- The while loop evaluates the condition before executing the code inside the loop.\n",
    "- If the condition is True, the loop executes the statements inside the block.\n",
    "- After executing the statements, it checks the condition again.\n",
    "- If the condition remains True, the loop continues.\n",
    "- The loop stops when the condition becomes False."
   ]
  },
  {
   "cell_type": "markdown",
   "id": "da1296eb-7308-422d-8291-53571abc67a6",
   "metadata": {},
   "source": [
    "## Applications of while Loop"
   ]
  },
  {
   "cell_type": "markdown",
   "id": "eedbea60-4240-490c-83ef-715b45512d3b",
   "metadata": {},
   "source": [
    "- Iterating until a specific condition is met.\n",
    "- Creating interactive programs (e.g., menu-driven programs).\n",
    "- Repeating actions until a user provides valid input.\n",
    "- Implementing countdowns and counters."
   ]
  },
  {
   "cell_type": "code",
   "execution_count": 5,
   "id": "e8603845-bde9-49c8-9b49-a554aa8f4a53",
   "metadata": {},
   "outputs": [
    {
     "name": "stdout",
     "output_type": "stream",
     "text": [
      "1, 2, 3, 4, 5, "
     ]
    }
   ],
   "source": [
    "i = 1\n",
    "while i < 6:\n",
    "  print(i, end = \", \")\n",
    "  i += 1"
   ]
  },
  {
   "cell_type": "markdown",
   "id": "e2834f31-f66f-4b67-aa81-481b0cd9a0b3",
   "metadata": {},
   "source": [
    "## The break Statement"
   ]
  },
  {
   "cell_type": "markdown",
   "id": "d9defcdb-04ff-4ee5-a8fe-5d7c1de213a5",
   "metadata": {},
   "source": [
    "With the break statement we can stop the loop even if the while condition is true."
   ]
  },
  {
   "cell_type": "code",
   "execution_count": 2,
   "id": "af3a9c67-ddb0-4a9b-99a2-1230ab965227",
   "metadata": {},
   "outputs": [
    {
     "name": "stdout",
     "output_type": "stream",
     "text": [
      "1\n",
      "2\n",
      "3\n"
     ]
    }
   ],
   "source": [
    "i = 1\n",
    "while i < 6:\n",
    "  print(i)\n",
    "  if i == 3:\n",
    "    break\n",
    "  i += 1"
   ]
  },
  {
   "cell_type": "markdown",
   "id": "6527cb45-e786-4340-8cca-74a83e05d6b5",
   "metadata": {},
   "source": [
    "## The continue Statement"
   ]
  },
  {
   "cell_type": "code",
   "execution_count": 3,
   "id": "51d11e4d-9673-4e43-b273-622190cf1f72",
   "metadata": {},
   "outputs": [
    {
     "name": "stdout",
     "output_type": "stream",
     "text": [
      "1\n",
      "2\n",
      "4\n",
      "5\n",
      "6\n"
     ]
    }
   ],
   "source": [
    "i = 0\n",
    "while i < 6:\n",
    "  i += 1\n",
    "  if i == 3:\n",
    "    continue\n",
    "  print(i)"
   ]
  },
  {
   "cell_type": "markdown",
   "id": "a6a85b42-f484-40cc-aeb8-83447b0b35d0",
   "metadata": {},
   "source": [
    "## The else Statement\n",
    "\n",
    "An else block can be executed after the loop finishes normally (without break).\n"
   ]
  },
  {
   "cell_type": "code",
   "execution_count": 2,
   "id": "d0457bdd-033f-4e43-8fa4-2e83d009b2f8",
   "metadata": {},
   "outputs": [
    {
     "name": "stdout",
     "output_type": "stream",
     "text": [
      "1\n",
      "2\n",
      "3\n",
      "Loop finished successfully!\n"
     ]
    }
   ],
   "source": [
    "x = 1\n",
    "while x <= 3:\n",
    "    print(x)\n",
    "    x += 1\n",
    "else:\n",
    "    print(\"Loop finished successfully!\")"
   ]
  },
  {
   "cell_type": "code",
   "execution_count": 4,
   "id": "167b6679-7e4c-42be-9e39-efffa598cfdb",
   "metadata": {},
   "outputs": [
    {
     "name": "stdout",
     "output_type": "stream",
     "text": [
      "1\n",
      "2\n",
      "3\n",
      "4\n",
      "5\n",
      "i is no longer less than 6\n"
     ]
    }
   ],
   "source": [
    "i = 1\n",
    "while i < 6:\n",
    "  print(i)\n",
    "  i += 1\n",
    "else:\n",
    "  print(\"i is no longer less than 6\")"
   ]
  },
  {
   "cell_type": "markdown",
   "id": "600bdc38-5c9c-4776-b7e6-1b8fbff7d020",
   "metadata": {},
   "source": [
    "# Common Mistakes"
   ]
  },
  {
   "cell_type": "markdown",
   "id": "df6d4401-8683-4952-975c-fb71ab2cce73",
   "metadata": {},
   "source": [
    "1. Infinite Loop - If the loop condition never becomes False, the loop runs indefinitely."
   ]
  },
  {
   "cell_type": "code",
   "execution_count": null,
   "id": "59cd1b4c-eae7-43db-a476-a9bc32bf13ab",
   "metadata": {},
   "outputs": [],
   "source": [
    "x = 1\n",
    "while x > 0:  # Always True\n",
    "    print(x)\n",
    "\n",
    "# Solution: Ensure the loop condition changes inside the loop.\n"
   ]
  },
  {
   "cell_type": "markdown",
   "id": "02b0e5c6-374d-40e1-a20e-d264064c2318",
   "metadata": {},
   "source": [
    "2. Forgetting to Increment/Modify the Condition"
   ]
  },
  {
   "cell_type": "code",
   "execution_count": null,
   "id": "7bdf034c-2732-4e65-8dbc-6f3678b086da",
   "metadata": {},
   "outputs": [],
   "source": [
    "count = 1\n",
    "while count <= 5:\n",
    "    print(\"Hello!\") # count is never updated, infinite loop"
   ]
  },
  {
   "cell_type": "markdown",
   "id": "890cf911-52e4-4145-8e21-f67355fd71ae",
   "metadata": {},
   "source": [
    "# Exercises"
   ]
  },
  {
   "cell_type": "markdown",
   "id": "2fa085be-4558-4b16-ac7a-73dbf25470c4",
   "metadata": {},
   "source": [
    "## Exercise 1: Countdown Timer\n",
    "Write a Python program that asks the user to enter a number and then counts down to zero."
   ]
  },
  {
   "cell_type": "code",
   "execution_count": null,
   "id": "48ff63e9-1428-40b3-8802-843d8eef7a55",
   "metadata": {},
   "outputs": [],
   "source": []
  },
  {
   "cell_type": "markdown",
   "id": "c014bcfc-3d8e-4071-8d80-183c38d6e041",
   "metadata": {},
   "source": [
    "## Exercise 2: Sum of Numbers\n",
    "Write a while loop that keeps asking the user for numbers and adds them to a sum. The loop stops when the user enters 0."
   ]
  },
  {
   "cell_type": "code",
   "execution_count": null,
   "id": "6065fa92-aa0a-4f3d-99a9-518101573092",
   "metadata": {},
   "outputs": [],
   "source": []
  },
  {
   "cell_type": "markdown",
   "id": "d3319449-8cb5-4c9d-bc74-ec55b70f77b6",
   "metadata": {},
   "source": [
    "## Exercise 3: Multiplication Table\n",
    "Write a program that takes a number as input and prints its multiplication table using a while loop."
   ]
  },
  {
   "cell_type": "code",
   "execution_count": null,
   "id": "79160365-4390-4b56-bae9-16c823c52eb3",
   "metadata": {},
   "outputs": [],
   "source": []
  }
 ],
 "metadata": {
  "kernelspec": {
   "display_name": "Python 3 (ipykernel)",
   "language": "python",
   "name": "python3"
  },
  "language_info": {
   "codemirror_mode": {
    "name": "ipython",
    "version": 3
   },
   "file_extension": ".py",
   "mimetype": "text/x-python",
   "name": "python",
   "nbconvert_exporter": "python",
   "pygments_lexer": "ipython3",
   "version": "3.12.7"
  }
 },
 "nbformat": 4,
 "nbformat_minor": 5
}
