{
 "cells": [
  {
   "cell_type": "code",
   "execution_count": null,
   "id": "b615fbd2-6a9b-48a6-baf5-7cad77a65714",
   "metadata": {},
   "outputs": [],
   "source": []
  },
  {
   "cell_type": "markdown",
   "id": "606752cd-88eb-4861-af94-391b76b81805",
   "metadata": {},
   "source": [
    "# If--Else Conditional Statement\n",
    "\n",
    "## Introduction to If-Else Statements\n",
    "Conditional statements allow a program to execute different code blocks based on conditions.\n",
    "\n",
    "In Python, we use:\n",
    "\n",
    "- if → Executes a block of code if a condition is True.\n",
    "- elif (optional) → Checks another condition if the previous condition was False.\n",
    "- else → Executes a block of code if none of the conditions are True."
   ]
  },
  {
   "cell_type": "markdown",
   "id": "961f07df-fa18-45e0-abd5-df17efb87f50",
   "metadata": {},
   "source": [
    "## Syntax of If-Else Statement"
   ]
  },
  {
   "cell_type": "code",
   "execution_count": null,
   "id": "c4149d77-75fc-4d0a-9657-5893969a65e8",
   "metadata": {},
   "outputs": [],
   "source": [
    "if condition:\n",
    "    # Code to execute if condition is True\n",
    "elif another_condition:\n",
    "    # Code to execute if previous condition is False but this condition is True\n",
    "else:\n",
    "    # Code to execute if all conditions are False"
   ]
  },
  {
   "cell_type": "markdown",
   "id": "652b83e9-f9d4-4613-a14e-7b45d9c480de",
   "metadata": {},
   "source": [
    "## Basic Example"
   ]
  },
  {
   "cell_type": "code",
   "execution_count": 1,
   "id": "c9b059ee-09eb-4985-8698-27797341602a",
   "metadata": {},
   "outputs": [
    {
     "name": "stdout",
     "output_type": "stream",
     "text": [
      "b is greater than a\n"
     ]
    }
   ],
   "source": [
    "a = 34\n",
    "b = 300\n",
    "if b > a:    \n",
    "  print(\"b is greater than a\")"
   ]
  },
  {
   "cell_type": "markdown",
   "id": "beeec8ec-9271-4a1f-8238-1c280c9f0394",
   "metadata": {},
   "source": [
    "# Indentation"
   ]
  },
  {
   "cell_type": "code",
   "execution_count": 2,
   "id": "bc8e179c-4bb2-4ee1-81e2-6ec61c51a400",
   "metadata": {},
   "outputs": [
    {
     "ename": "IndentationError",
     "evalue": "expected an indented block after 'if' statement on line 3 (1443227691.py, line 4)",
     "output_type": "error",
     "traceback": [
      "\u001b[1;36m  Cell \u001b[1;32mIn[2], line 4\u001b[1;36m\u001b[0m\n\u001b[1;33m    print(\"b is greater than a\") # you will get an error\u001b[0m\n\u001b[1;37m    ^\u001b[0m\n\u001b[1;31mIndentationError\u001b[0m\u001b[1;31m:\u001b[0m expected an indented block after 'if' statement on line 3\n"
     ]
    }
   ],
   "source": [
    "a = 34\n",
    "b = 300\n",
    "if b > a:\n",
    "print(\"b is greater than a\") # you will get an error"
   ]
  },
  {
   "cell_type": "markdown",
   "id": "b7610bff-2e36-4e9e-a071-2b26efaa5241",
   "metadata": {},
   "source": [
    "# Elif"
   ]
  },
  {
   "cell_type": "code",
   "execution_count": 3,
   "id": "edcbb504-64de-4447-90bd-24f8baccc5af",
   "metadata": {},
   "outputs": [
    {
     "name": "stdout",
     "output_type": "stream",
     "text": [
      "a and b are equal\n"
     ]
    }
   ],
   "source": [
    "a = 34\n",
    "b = 34\n",
    "if b > a:\n",
    "  print(\"b is greater than a\")\n",
    "elif a == b:\n",
    "  print(\"a and b are equal\")"
   ]
  },
  {
   "cell_type": "markdown",
   "id": "ac97cab9-ce3c-4354-a8ea-95ebaaa436b2",
   "metadata": {},
   "source": [
    "# Else"
   ]
  },
  {
   "cell_type": "code",
   "execution_count": 5,
   "id": "a3ffae65-3eb8-4656-8e7a-0c22daa9fc63",
   "metadata": {},
   "outputs": [
    {
     "name": "stdout",
     "output_type": "stream",
     "text": [
      "a is greater than b\n"
     ]
    }
   ],
   "source": [
    "a = 300\n",
    "b = 34\n",
    "if b > a:\n",
    "  print(\"b is greater than a\")\n",
    "elif a == b:\n",
    "  print(\"a and b are equal\")\n",
    "else:\n",
    "  print(\"a is greater than b\")"
   ]
  },
  {
   "cell_type": "code",
   "execution_count": 6,
   "id": "1b20ebad-0e40-4d53-b7a5-3ce41174b4ca",
   "metadata": {},
   "outputs": [
    {
     "name": "stdout",
     "output_type": "stream",
     "text": [
      "b is not greater than a\n"
     ]
    }
   ],
   "source": [
    "a = 300\n",
    "b = 34\n",
    "if b > a:\n",
    "  print(\"b is greater than a\")\n",
    "else:\n",
    "  print(\"b is not greater than a\")"
   ]
  },
  {
   "cell_type": "markdown",
   "id": "8ee65157-e6b7-4adc-a865-a22596129624",
   "metadata": {},
   "source": [
    "# Short Hand If"
   ]
  },
  {
   "cell_type": "code",
   "execution_count": 2,
   "id": "3844839d-4cbe-44c7-967a-d93f93b6ec0b",
   "metadata": {},
   "outputs": [],
   "source": [
    "if a > b: print(\"a is greater than b\")"
   ]
  },
  {
   "cell_type": "markdown",
   "id": "45ec1672-7134-46a8-b8a9-4a51caf16d20",
   "metadata": {},
   "source": [
    "# Short Hand If ... Else"
   ]
  },
  {
   "cell_type": "code",
   "execution_count": 3,
   "id": "0908f490-3313-4b71-8a36-ecdb4fecd356",
   "metadata": {
    "scrolled": true
   },
   "outputs": [
    {
     "name": "stdout",
     "output_type": "stream",
     "text": [
      "B\n"
     ]
    }
   ],
   "source": [
    "a = 2\n",
    "b = 330\n",
    "print(\"A\") if a > b else print(\"B\")"
   ]
  },
  {
   "cell_type": "markdown",
   "id": "7bee27f1-991c-41c1-b1dc-db80d43be9c4",
   "metadata": {},
   "source": [
    "# One line if else statement, with 3 conditions"
   ]
  },
  {
   "cell_type": "code",
   "execution_count": 4,
   "id": "871908b4-b5e4-4cc9-b03f-76ecd43385bf",
   "metadata": {},
   "outputs": [
    {
     "name": "stdout",
     "output_type": "stream",
     "text": [
      "=\n"
     ]
    }
   ],
   "source": [
    "a = 530\n",
    "b = 530\n",
    "print(\"A\") if a > b else print(\"=\") if a == b else print(\"B\")"
   ]
  },
  {
   "cell_type": "markdown",
   "id": "455fc53e-68a0-4c75-9e12-6c91b20cee95",
   "metadata": {},
   "source": [
    "# And "
   ]
  },
  {
   "cell_type": "code",
   "execution_count": 5,
   "id": "6c04996c-7f03-4cfe-9850-dcf33643bd56",
   "metadata": {},
   "outputs": [
    {
     "name": "stdout",
     "output_type": "stream",
     "text": [
      "Both conditions are True\n"
     ]
    }
   ],
   "source": [
    "a = 300\n",
    "b = 34\n",
    "c = 700\n",
    "if a > b and c > a:\n",
    "  print(\"Both conditions are True\")"
   ]
  },
  {
   "cell_type": "markdown",
   "id": "9d275755-a062-4d27-8a5e-18c19806e848",
   "metadata": {},
   "source": [
    "# Or"
   ]
  },
  {
   "cell_type": "code",
   "execution_count": 6,
   "id": "7e530915-99c8-4d59-9785-c9d58f290fe6",
   "metadata": {},
   "outputs": [
    {
     "name": "stdout",
     "output_type": "stream",
     "text": [
      "At least one of the conditions is True\n"
     ]
    }
   ],
   "source": [
    "a = 300\n",
    "b = 34\n",
    "c = 700\n",
    "if a > b or a > c:\n",
    "  print(\"At least one of the conditions is True\")"
   ]
  },
  {
   "cell_type": "markdown",
   "id": "57ec10ca-463e-45ee-9d1f-abe45a440007",
   "metadata": {},
   "source": [
    "# Not"
   ]
  },
  {
   "cell_type": "code",
   "execution_count": 7,
   "id": "47c71fab-4059-4259-b5f0-d9401a32de73",
   "metadata": {},
   "outputs": [
    {
     "name": "stdout",
     "output_type": "stream",
     "text": [
      "a is NOT greater than b\n"
     ]
    }
   ],
   "source": [
    "a = 34\n",
    "b = 300\n",
    "if not a > b:\n",
    "  print(\"a is NOT greater than b\")"
   ]
  },
  {
   "cell_type": "markdown",
   "id": "edb2d5c3-1b62-4bea-99ed-1dc3ecbc7f6a",
   "metadata": {},
   "source": [
    "# Nested If"
   ]
  },
  {
   "cell_type": "code",
   "execution_count": 8,
   "id": "25ccd152-5d86-475d-b68d-0313a02b70b3",
   "metadata": {},
   "outputs": [
    {
     "name": "stdout",
     "output_type": "stream",
     "text": [
      "Above ten,\n",
      "and also above 20!\n"
     ]
    }
   ],
   "source": [
    "x = 52\n",
    "\n",
    "if x > 10:\n",
    "  print(\"Above ten,\")\n",
    "  if x > 20:\n",
    "    print(\"and also above 20!\")\n",
    "  else:\n",
    "    print(\"but not above 20.\")"
   ]
  },
  {
   "cell_type": "markdown",
   "id": "6de359ef-71a5-4d59-95b8-0b39de93b938",
   "metadata": {},
   "source": [
    "# The pass statement"
   ]
  },
  {
   "cell_type": "code",
   "execution_count": 9,
   "id": "bd98d0b3-a603-443b-bb02-051ac920e871",
   "metadata": {},
   "outputs": [],
   "source": [
    "a = 34\n",
    "b = 300\n",
    "\n",
    "if b > a:\n",
    "  pass"
   ]
  },
  {
   "cell_type": "code",
   "execution_count": null,
   "id": "a0a5f063-fb6d-4630-883d-23a87d60f3a6",
   "metadata": {},
   "outputs": [],
   "source": []
  },
  {
   "cell_type": "markdown",
   "id": "34ce21e7-4e9a-4511-b8a1-3a2cf85285db",
   "metadata": {},
   "source": [
    "# Exercise "
   ]
  },
  {
   "cell_type": "markdown",
   "id": "e4c4622f-e17f-4244-b471-55c68d8eb485",
   "metadata": {},
   "source": [
    "## Exercise 1: Check Even or Odd"
   ]
  },
  {
   "cell_type": "markdown",
   "id": "1bb46075-4636-4768-9c11-488394e210d4",
   "metadata": {},
   "source": [
    "Write a Python program to check if a number is even or odd.\n",
    "\n",
    "Hint: num = int(input(\"Enter a number: \"))"
   ]
  },
  {
   "cell_type": "markdown",
   "id": "9431a8b8-fe3b-47c8-9571-7877a9c6edf6",
   "metadata": {},
   "source": [
    "## Exercise 2: Determine Leap Year"
   ]
  },
  {
   "cell_type": "markdown",
   "id": "7d0e132d-3169-4ae2-b3c5-38e6c843d9f3",
   "metadata": {},
   "source": [
    "Write a Python program to check if a year is a leap year. (A year is a leap year if it is divisible by 4 but not divisible by 100, unless also divisible by 400.)\n",
    "\n",
    "Hint: year = int(input(\"Enter a year: \"))"
   ]
  },
  {
   "cell_type": "markdown",
   "id": "bc38eb3b-6fe2-4250-b7db-4ade45220220",
   "metadata": {},
   "source": [
    "## Exercise 3: Grading System"
   ]
  },
  {
   "cell_type": "markdown",
   "id": "2ccee532-0485-40e4-8fa7-9cf5e958b50e",
   "metadata": {},
   "source": [
    "Write a Python program to take a student's score as input and assign a grade using if-else."
   ]
  },
  {
   "cell_type": "markdown",
   "id": "16551b2a-1f7c-4c46-805d-72f8adf4ae0e",
   "metadata": {},
   "source": [
    "Hint: score = int(input(\"Enter your score: \"))"
   ]
  },
  {
   "cell_type": "code",
   "execution_count": null,
   "id": "2b3db51b-068b-4576-a827-280e3713d915",
   "metadata": {},
   "outputs": [],
   "source": []
  }
 ],
 "metadata": {
  "kernelspec": {
   "display_name": "Python 3 (ipykernel)",
   "language": "python",
   "name": "python3"
  },
  "language_info": {
   "codemirror_mode": {
    "name": "ipython",
    "version": 3
   },
   "file_extension": ".py",
   "mimetype": "text/x-python",
   "name": "python",
   "nbconvert_exporter": "python",
   "pygments_lexer": "ipython3",
   "version": "3.12.7"
  }
 },
 "nbformat": 4,
 "nbformat_minor": 5
}
