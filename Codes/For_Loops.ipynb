{
 "cells": [
  {
   "cell_type": "markdown",
   "id": "0f43b27a-c8b4-4493-8c2d-b93c311320e5",
   "metadata": {},
   "source": [
    "# For Loops"
   ]
  },
  {
   "cell_type": "markdown",
   "id": "3030a58a-33e2-4c3d-8ef8-136918013bd3",
   "metadata": {},
   "source": [
    "A for loop in Python is used to iterate over a sequence (list, tuple, dictionary, string, or range). It allows us to execute a block of code multiple times."
   ]
  },
  {
   "cell_type": "markdown",
   "id": "9a0e2b0f-0275-4869-b1a0-95a4993e227a",
   "metadata": {},
   "source": [
    "# Syntax"
   ]
  },
  {
   "cell_type": "code",
   "execution_count": null,
   "id": "356fd09a-714d-4980-bc2c-b4c995bafb61",
   "metadata": {},
   "outputs": [],
   "source": [
    "for variable in sequence:\n",
    "    # Code to execute"
   ]
  },
  {
   "cell_type": "markdown",
   "id": "1dde5f5e-928d-4a0c-a12e-53638f21e3c5",
   "metadata": {},
   "source": [
    "# Applications of For Loops"
   ]
  },
  {
   "cell_type": "markdown",
   "id": "b6587345-b3b5-4e63-bc20-4c90f7b2af48",
   "metadata": {},
   "source": [
    "- Iterating through lists, tuples, dictionaries, and strings.\n",
    "- Running a loop a specific number of times using range().\n",
    "- Performing calculations on iterable elements.\n",
    "- Automating repetitive tasks like data processing."
   ]
  },
  {
   "cell_type": "markdown",
   "id": "6828802f-56d1-4727-bf42-a80f0c16fb6e",
   "metadata": {},
   "source": [
    "# Iterating Over Different Data Structures"
   ]
  },
  {
   "cell_type": "markdown",
   "id": "e93b5b91-ea49-43d3-87cb-ad92a99a8b93",
   "metadata": {},
   "source": [
    "## Iterating Through a List"
   ]
  },
  {
   "cell_type": "code",
   "execution_count": 1,
   "id": "6bf85e22-e747-4869-b31f-a99887415309",
   "metadata": {},
   "outputs": [
    {
     "name": "stdout",
     "output_type": "stream",
     "text": [
      "apple\n",
      "banana\n",
      "cherry\n"
     ]
    }
   ],
   "source": [
    "# Iterating Through a List\n",
    "\n",
    "fruits = [\"apple\", \"banana\", \"cherry\"]\n",
    "for x in fruits:\n",
    "  print(x)# Print each fruit in a fruit list"
   ]
  },
  {
   "cell_type": "markdown",
   "id": "ab9eaf84-9f09-4e4f-afaa-8324e553d7e8",
   "metadata": {},
   "source": [
    "## Looping Through a String"
   ]
  },
  {
   "cell_type": "code",
   "execution_count": 2,
   "id": "ca7084b0-3670-4636-8134-476915b84542",
   "metadata": {},
   "outputs": [
    {
     "name": "stdout",
     "output_type": "stream",
     "text": [
      "b\n",
      "a\n",
      "n\n",
      "a\n",
      "n\n",
      "a\n"
     ]
    }
   ],
   "source": [
    "for x in \"banana\":\n",
    "  print(x)"
   ]
  },
  {
   "cell_type": "markdown",
   "id": "6b7e4fae-96bd-45a1-93ad-ff631d44bfa6",
   "metadata": {},
   "source": [
    "## Iterating Through a Tuple"
   ]
  },
  {
   "cell_type": "code",
   "execution_count": 2,
   "id": "39ec7ef7-a718-4935-9368-31793d194a20",
   "metadata": {},
   "outputs": [
    {
     "name": "stdout",
     "output_type": "stream",
     "text": [
      "red\n",
      "green\n",
      "blue\n"
     ]
    }
   ],
   "source": [
    "colors = (\"red\", \"green\", \"blue\")\n",
    "for color in colors:\n",
    "    print(color)"
   ]
  },
  {
   "cell_type": "markdown",
   "id": "5c82d30b-088e-44ac-b8d7-dc5e57c626f1",
   "metadata": {},
   "source": [
    "## Iterating Through a Dictionary"
   ]
  },
  {
   "cell_type": "code",
   "execution_count": 3,
   "id": "5cfbf48c-aea5-4e34-be3c-50524684b3a3",
   "metadata": {},
   "outputs": [
    {
     "name": "stdout",
     "output_type": "stream",
     "text": [
      "Alice : 85\n",
      "Bob : 90\n",
      "Charlie : 78\n"
     ]
    }
   ],
   "source": [
    "student_scores = {\"Alice\": 85, \"Bob\": 90, \"Charlie\": 78}\n",
    "for student, score in student_scores.items():\n",
    "    print(student, \":\", score)"
   ]
  },
  {
   "cell_type": "markdown",
   "id": "ebd900ae-1188-4e6b-97a2-633f9b644374",
   "metadata": {},
   "source": [
    "## Using range() for Numeric Iteration"
   ]
  },
  {
   "cell_type": "code",
   "execution_count": 4,
   "id": "8a92b290-88e8-4403-9ce4-20a72c90f364",
   "metadata": {},
   "outputs": [
    {
     "name": "stdout",
     "output_type": "stream",
     "text": [
      "0\n",
      "1\n",
      "2\n",
      "3\n",
      "4\n"
     ]
    }
   ],
   "source": [
    "for i in range(5):  # Loops from 0 to 4\n",
    "    print(i)"
   ]
  },
  {
   "cell_type": "code",
   "execution_count": 5,
   "id": "77af7ea0-4a61-4d39-8209-545f3512dbd8",
   "metadata": {},
   "outputs": [
    {
     "name": "stdout",
     "output_type": "stream",
     "text": [
      "1\n",
      "3\n",
      "5\n",
      "7\n",
      "9\n"
     ]
    }
   ],
   "source": [
    "# Using range(start, stop, step)\n",
    "\n",
    "for i in range(1, 10, 2):  # Prints odd numbers from 1 to 9\n",
    "    print(i)"
   ]
  },
  {
   "cell_type": "markdown",
   "id": "fb024a52-4915-44b0-ad9d-a85d493fd7d8",
   "metadata": {},
   "source": [
    "## The break Statement"
   ]
  },
  {
   "cell_type": "code",
   "execution_count": 11,
   "id": "68d9c6ef-5f98-4bee-89a3-ac1a4d3b53e3",
   "metadata": {},
   "outputs": [
    {
     "name": "stdout",
     "output_type": "stream",
     "text": [
      "1\n",
      "2\n",
      "3\n",
      "4\n"
     ]
    }
   ],
   "source": [
    "for num in range(1, 10):\n",
    "    if num == 5:\n",
    "        break  # Stops when num is 5\n",
    "    print(num)"
   ]
  },
  {
   "cell_type": "code",
   "execution_count": 3,
   "id": "db888aa7-6e2b-45c6-9165-398b50f5d197",
   "metadata": {},
   "outputs": [
    {
     "name": "stdout",
     "output_type": "stream",
     "text": [
      "apple\n",
      "banana\n"
     ]
    }
   ],
   "source": [
    "fruits = [\"apple\", \"banana\", \"cherry\"]\n",
    "for x in fruits:\n",
    "  print(x)\n",
    "  if x == \"banana\":\n",
    "    break # Exit the loop when x is \"banana\""
   ]
  },
  {
   "cell_type": "code",
   "execution_count": 4,
   "id": "91dcc84a-7c0f-4c1b-a1e7-6bbd975d25db",
   "metadata": {},
   "outputs": [
    {
     "name": "stdout",
     "output_type": "stream",
     "text": [
      "apple\n"
     ]
    }
   ],
   "source": [
    "fruits = [\"apple\", \"banana\", \"cherry\"]\n",
    "for x in fruits:\n",
    "  if x == \"banana\":\n",
    "    break\n",
    "  print(x) # Exit the loop when x is \"banana\", but this time the break comes before the print"
   ]
  },
  {
   "cell_type": "markdown",
   "id": "3007e4c5-77d3-461a-bea1-c7ffcd1d10b0",
   "metadata": {},
   "source": [
    "## The continue Statement"
   ]
  },
  {
   "cell_type": "markdown",
   "id": "d438b2e8-4894-4c65-b16c-cc936a8717e0",
   "metadata": {},
   "source": [
    "With the continue statement we can stop the current iteration of the loop, and continue with the next"
   ]
  },
  {
   "cell_type": "code",
   "execution_count": 8,
   "id": "9d435aa1-ed4b-493e-badb-3ec51c7eac64",
   "metadata": {},
   "outputs": [
    {
     "name": "stdout",
     "output_type": "stream",
     "text": [
      "1\n",
      "2\n",
      "4\n",
      "5\n"
     ]
    }
   ],
   "source": [
    "for num in range(1, 6):\n",
    "    if num == 3:\n",
    "        continue  # Skips printing 3\n",
    "    print(num)"
   ]
  },
  {
   "cell_type": "code",
   "execution_count": 5,
   "id": "7ee06d1e-f24d-4b30-9d05-a8ac65acf4df",
   "metadata": {},
   "outputs": [
    {
     "name": "stdout",
     "output_type": "stream",
     "text": [
      "apple\n",
      "cherry\n"
     ]
    }
   ],
   "source": [
    "fruits = [\"apple\", \"banana\", \"cherry\"]\n",
    "for x in fruits:\n",
    "  if x == \"banana\":\n",
    "    continue\n",
    "  print(x)"
   ]
  },
  {
   "cell_type": "markdown",
   "id": "b25fa642-c5a8-47a9-9f2b-063e2016faa5",
   "metadata": {},
   "source": [
    "## The range() Function"
   ]
  },
  {
   "cell_type": "markdown",
   "id": "878f6078-0667-4328-900b-e5b0b9a6ff99",
   "metadata": {},
   "source": [
    "To loop through a set of code a specified number of times, we can use the range() function,\n",
    "The range() function returns a sequence of numbers, starting from 0 by default, and increments by 1 (by default), and ends at a specified number."
   ]
  },
  {
   "cell_type": "code",
   "execution_count": 6,
   "id": "b0cf4240-6985-472a-875d-7981d16d23c9",
   "metadata": {},
   "outputs": [
    {
     "name": "stdout",
     "output_type": "stream",
     "text": [
      "0\n",
      "1\n",
      "2\n",
      "3\n",
      "4\n",
      "5\n"
     ]
    }
   ],
   "source": [
    "for x in range(6):\n",
    "  print(x)"
   ]
  },
  {
   "cell_type": "code",
   "execution_count": 7,
   "id": "d4f87ba9-96cf-4a2e-92ef-67257a9dd7a1",
   "metadata": {},
   "outputs": [
    {
     "name": "stdout",
     "output_type": "stream",
     "text": [
      "2\n",
      "3\n",
      "4\n",
      "5\n"
     ]
    }
   ],
   "source": [
    "for x in range(2, 6):\n",
    "  print(x)# Using the start parameter"
   ]
  },
  {
   "cell_type": "code",
   "execution_count": 8,
   "id": "8b913797-506a-400b-9506-8036583b30e9",
   "metadata": {},
   "outputs": [
    {
     "name": "stdout",
     "output_type": "stream",
     "text": [
      "2\n",
      "5\n",
      "8\n",
      "11\n",
      "14\n",
      "17\n",
      "20\n",
      "23\n",
      "26\n",
      "29\n"
     ]
    }
   ],
   "source": [
    "for x in range(2, 30, 3):\n",
    "  print(x) # Increment the sequence with 3 (default is 1)"
   ]
  },
  {
   "cell_type": "markdown",
   "id": "1944cfeb-0aea-473c-9063-0c89b27d6f95",
   "metadata": {},
   "source": [
    "## Else in For Loop"
   ]
  },
  {
   "cell_type": "code",
   "execution_count": 9,
   "id": "6c44040a-3f47-4865-a008-3f5d3457799f",
   "metadata": {},
   "outputs": [
    {
     "name": "stdout",
     "output_type": "stream",
     "text": [
      "0\n",
      "1\n",
      "2\n",
      "Loop completed!\n"
     ]
    }
   ],
   "source": [
    "for i in range(3):\n",
    "    print(i)\n",
    "else:\n",
    "    print(\"Loop completed!\")"
   ]
  },
  {
   "cell_type": "code",
   "execution_count": 9,
   "id": "adaf8cd5-3488-48c4-8391-428df63e8c67",
   "metadata": {},
   "outputs": [
    {
     "name": "stdout",
     "output_type": "stream",
     "text": [
      "0\n",
      "1\n",
      "2\n",
      "3\n",
      "4\n",
      "5\n",
      "Finally finished!\n"
     ]
    }
   ],
   "source": [
    "for x in range(6):\n",
    "  print(x)\n",
    "else:\n",
    "  print(\"Finally finished!\")"
   ]
  },
  {
   "cell_type": "code",
   "execution_count": 10,
   "id": "9889abc4-e29c-4930-be68-b587e3f79492",
   "metadata": {},
   "outputs": [
    {
     "name": "stdout",
     "output_type": "stream",
     "text": [
      "0\n",
      "1\n",
      "2\n"
     ]
    }
   ],
   "source": [
    "for x in range(6):\n",
    "  if x == 3: break\n",
    "  print(x)\n",
    "else:\n",
    "  print(\"Finally finished!\")"
   ]
  },
  {
   "cell_type": "markdown",
   "id": "fd802133-35ab-42b0-81b4-0c30f671555b",
   "metadata": {},
   "source": [
    "## Nested Loops"
   ]
  },
  {
   "cell_type": "markdown",
   "id": "a0a547f2-bcc0-46b1-985d-d7afd47afc57",
   "metadata": {},
   "source": [
    "A nested loop is a loop inside a loop.\n",
    "\n",
    "The \"inner loop\" will be executed one time for each iteration of the \"outer loop\""
   ]
  },
  {
   "cell_type": "code",
   "execution_count": 11,
   "id": "83bf8f04-ef9a-4d20-97dd-88dc0746ab95",
   "metadata": {},
   "outputs": [
    {
     "name": "stdout",
     "output_type": "stream",
     "text": [
      "red apple\n",
      "red banana\n",
      "red cherry\n",
      "big apple\n",
      "big banana\n",
      "big cherry\n",
      "tasty apple\n",
      "tasty banana\n",
      "tasty cherry\n"
     ]
    }
   ],
   "source": [
    "adj = [\"red\", \"big\", \"tasty\"]\n",
    "fruits = [\"apple\", \"banana\", \"cherry\"]\n",
    "\n",
    "for x in adj:\n",
    "  for y in fruits:\n",
    "    print(x, y)"
   ]
  },
  {
   "cell_type": "markdown",
   "id": "eae8eeee-ee70-4107-947a-ab2272c89fc1",
   "metadata": {},
   "source": [
    "## The pass Statement"
   ]
  },
  {
   "cell_type": "markdown",
   "id": "037015b2-c3db-46e3-bba5-e3f1b3270290",
   "metadata": {},
   "source": [
    "for loops cannot be empty, but if you for some reason have a for loop with no content, put in the pass statement to avoid getting an error."
   ]
  },
  {
   "cell_type": "code",
   "execution_count": 12,
   "id": "e0677ab6-3e54-4a1c-89ce-b77d832edafa",
   "metadata": {},
   "outputs": [],
   "source": [
    "for x in [0, 1, 2]:\n",
    "  pass"
   ]
  },
  {
   "cell_type": "markdown",
   "id": "fca98ef4-f9c5-4244-b25c-abe4aac33f1e",
   "metadata": {},
   "source": [
    "# Exercises"
   ]
  },
  {
   "cell_type": "markdown",
   "id": "90308bf1-62b5-4df9-8b05-1dc0c8717723",
   "metadata": {},
   "source": [
    "## Exercise 1: Sum of All Elements in a List\n",
    "\n",
    "Write a program to calculate the sum of all numbers in a list."
   ]
  },
  {
   "cell_type": "code",
   "execution_count": null,
   "id": "a81ac8d2-1070-421c-8b95-d13b685d5b4d",
   "metadata": {},
   "outputs": [],
   "source": [
    "numbers = [10, 20, 30, 40, 50]\n",
    "# Your code here"
   ]
  },
  {
   "cell_type": "markdown",
   "id": "4f85402a-f06e-475d-a599-f2180250540b",
   "metadata": {},
   "source": [
    "## Exercise 2: Find Even Numbers from 1 to 20\n",
    "\n",
    "Write a for loop to print only even numbers between 1 and 20."
   ]
  },
  {
   "cell_type": "markdown",
   "id": "72f77c60-0150-4276-8403-a58da2ae3a1d",
   "metadata": {},
   "source": [
    "## Exercise 3: Count the Number of Vowels in a String\n",
    "Write a program that counts the vowels in the string \"Hello, World!\"."
   ]
  },
  {
   "cell_type": "code",
   "execution_count": null,
   "id": "a2d0ba85-73f8-4c23-ba0f-a907a3ad0353",
   "metadata": {},
   "outputs": [],
   "source": []
  },
  {
   "cell_type": "markdown",
   "id": "0eff9989-475c-4c0e-8d55-e64f5be9e04d",
   "metadata": {},
   "source": [
    "## Exercise 4: Iterate Through a Dictionary and Print Values Greater Than 50\n",
    "\n",
    "Given a dictionary of student scores, print only those who scored above 50."
   ]
  },
  {
   "cell_type": "code",
   "execution_count": null,
   "id": "8d19cc11-4da5-446c-bbc6-29f7d3d92d6e",
   "metadata": {},
   "outputs": [],
   "source": [
    "scores = {\"John\": 45, \"Alice\": 78, \"Bob\": 62, \"Eve\": 30}\n",
    "# Your code here"
   ]
  },
  {
   "cell_type": "code",
   "execution_count": null,
   "id": "ddd24fb3-2b6d-4739-840c-4362b3370ba3",
   "metadata": {},
   "outputs": [],
   "source": []
  }
 ],
 "metadata": {
  "kernelspec": {
   "display_name": "Python 3 (ipykernel)",
   "language": "python",
   "name": "python3"
  },
  "language_info": {
   "codemirror_mode": {
    "name": "ipython",
    "version": 3
   },
   "file_extension": ".py",
   "mimetype": "text/x-python",
   "name": "python",
   "nbconvert_exporter": "python",
   "pygments_lexer": "ipython3",
   "version": "3.12.7"
  }
 },
 "nbformat": 4,
 "nbformat_minor": 5
}
